{
 "cells": [
  {
   "cell_type": "code",
   "execution_count": 168,
   "id": "fe054f20-1228-474c-a831-af6e65332514",
   "metadata": {},
   "outputs": [],
   "source": [
    "from pyspark.sql import SparkSession\n",
    "import pyspark.sql.functions as F\n",
    "from pyspark.sql import types \n",
    "from pyspark.sql.window import Window"
   ]
  },
  {
   "cell_type": "code",
   "execution_count": 169,
   "id": "5bbc181e",
   "metadata": {},
   "outputs": [],
   "source": [
    "# creating a session\n",
    "spark = SparkSession.builder.appName('CovidCaseAnalysis').getOrCreate()"
   ]
  },
  {
   "cell_type": "code",
   "execution_count": 170,
   "id": "d8130fd1",
   "metadata": {},
   "outputs": [],
   "source": [
    "spark_context = spark.sparkContext"
   ]
  },
  {
   "cell_type": "code",
   "execution_count": 171,
   "id": "b5c0961b",
   "metadata": {},
   "outputs": [
    {
     "data": {
      "text/html": [
       "\n",
       "        <div>\n",
       "            <p><b>SparkContext</b></p>\n",
       "\n",
       "            <p><a href=\"http://853CBX3:4040\">Spark UI</a></p>\n",
       "\n",
       "            <dl>\n",
       "              <dt>Version</dt>\n",
       "                <dd><code>v3.5.2</code></dd>\n",
       "              <dt>Master</dt>\n",
       "                <dd><code>local[*]</code></dd>\n",
       "              <dt>AppName</dt>\n",
       "                <dd><code>CovidCaseAnalysis</code></dd>\n",
       "            </dl>\n",
       "        </div>\n",
       "        "
      ],
      "text/plain": [
       "<SparkContext master=local[*] appName=CovidCaseAnalysis>"
      ]
     },
     "execution_count": 171,
     "metadata": {},
     "output_type": "execute_result"
    }
   ],
   "source": [
    "spark_context"
   ]
  },
  {
   "cell_type": "code",
   "execution_count": 172,
   "id": "2aaaab18",
   "metadata": {},
   "outputs": [],
   "source": [
    "#load the csv file,\n",
    "df_coviddata = spark.read.csv('complete.csv', header=True, inferSchema=True)"
   ]
  },
  {
   "cell_type": "code",
   "execution_count": 173,
   "id": "b2e8e687",
   "metadata": {},
   "outputs": [
    {
     "name": "stdout",
     "output_type": "stream",
     "text": [
      "root\n",
      " |-- Date: date (nullable = true)\n",
      " |-- Name of State / UT: string (nullable = true)\n",
      " |-- Latitude: double (nullable = true)\n",
      " |-- Longitude: double (nullable = true)\n",
      " |-- Total Confirmed cases: double (nullable = true)\n",
      " |-- Death: string (nullable = true)\n",
      " |-- Cured/Discharged/Migrated: double (nullable = true)\n",
      " |-- New cases: integer (nullable = true)\n",
      " |-- New deaths: integer (nullable = true)\n",
      " |-- New recovered: integer (nullable = true)\n",
      "\n"
     ]
    }
   ],
   "source": [
    "#to see the structure of the dataset\n",
    "df_coviddata.printSchema()"
   ]
  },
  {
   "cell_type": "code",
   "execution_count": 174,
   "id": "5d24947f",
   "metadata": {},
   "outputs": [],
   "source": [
    "df_coviddata = df_coviddata.withColumn(\"Death\", df_coviddata[\"Death\"].cast(types.IntegerType()))"
   ]
  },
  {
   "cell_type": "code",
   "execution_count": 175,
   "id": "1146d389",
   "metadata": {},
   "outputs": [
    {
     "name": "stdout",
     "output_type": "stream",
     "text": [
      "root\n",
      " |-- Date: date (nullable = true)\n",
      " |-- Name of State / UT: string (nullable = true)\n",
      " |-- Latitude: double (nullable = true)\n",
      " |-- Longitude: double (nullable = true)\n",
      " |-- Total Confirmed cases: double (nullable = true)\n",
      " |-- Death: integer (nullable = true)\n",
      " |-- Cured/Discharged/Migrated: double (nullable = true)\n",
      " |-- New cases: integer (nullable = true)\n",
      " |-- New deaths: integer (nullable = true)\n",
      " |-- New recovered: integer (nullable = true)\n",
      "\n"
     ]
    }
   ],
   "source": [
    "df_coviddata.printSchema()"
   ]
  },
  {
   "cell_type": "code",
   "execution_count": 176,
   "id": "f30fe6ed",
   "metadata": {},
   "outputs": [],
   "source": [
    "numeric_cols = ['Total Confirmed cases','Death','Cured/Discharged/Migrated','New cases','New deaths','New recovered']\n",
    "df_coviddata_f = df_coviddata.fillna(0, subset=numeric_cols)"
   ]
  },
  {
   "cell_type": "code",
   "execution_count": 177,
   "id": "95dd7b5e",
   "metadata": {},
   "outputs": [],
   "source": [
    "string_cols = ['Date','Name of State / UT']\n",
    "df_coviddata_f = df_coviddata_f.dropna(subset=string_cols)"
   ]
  },
  {
   "cell_type": "code",
   "execution_count": 178,
   "id": "3417b935",
   "metadata": {},
   "outputs": [
    {
     "name": "stdout",
     "output_type": "stream",
     "text": [
      "root\n",
      " |-- Date: date (nullable = true)\n",
      " |-- Name of State / UT: string (nullable = true)\n",
      " |-- Total Confirmed cases: double (nullable = true)\n",
      " |-- Death: integer (nullable = true)\n",
      " |-- Cured/Discharged/Migrated: double (nullable = true)\n",
      " |-- New cases: integer (nullable = true)\n",
      " |-- New deaths: integer (nullable = true)\n",
      " |-- New recovered: integer (nullable = true)\n",
      "\n"
     ]
    }
   ],
   "source": [
    "df_coviddata_f = df_coviddata.drop(F.col('Latitude'))\n",
    "df_coviddata_f = df_coviddata_f.drop(F.col('Longitude'))\n",
    "df_coviddata_f.printSchema()"
   ]
  },
  {
   "cell_type": "code",
   "execution_count": 179,
   "id": "35602cc2",
   "metadata": {},
   "outputs": [
    {
     "name": "stdout",
     "output_type": "stream",
     "text": [
      "+----------+------------------+---------------------+-----+-------------------------+---------+----------+-------------+\n",
      "|      Date|Name of State / UT|Total Confirmed cases|Death|Cured/Discharged/Migrated|New cases|New deaths|New recovered|\n",
      "+----------+------------------+---------------------+-----+-------------------------+---------+----------+-------------+\n",
      "|2020-01-30|            Kerala|                  1.0|    0|                      0.0|        0|         0|            0|\n",
      "|2020-01-31|            Kerala|                  1.0|    0|                      0.0|        0|         0|            0|\n",
      "|2020-02-01|            Kerala|                  2.0|    0|                      0.0|        1|         0|            0|\n",
      "|2020-02-02|            Kerala|                  3.0|    0|                      0.0|        1|         0|            0|\n",
      "|2020-02-03|            Kerala|                  3.0|    0|                      0.0|        0|         0|            0|\n",
      "|2020-02-04|            Kerala|                  3.0|    0|                      0.0|        0|         0|            0|\n",
      "|2020-02-05|            Kerala|                  3.0|    0|                      0.0|        0|         0|            0|\n",
      "|2020-02-06|            Kerala|                  3.0|    0|                      0.0|        0|         0|            0|\n",
      "|2020-02-07|            Kerala|                  3.0|    0|                      0.0|        0|         0|            0|\n",
      "|2020-02-08|            Kerala|                  3.0|    0|                      0.0|        0|         0|            0|\n",
      "|2020-02-09|            Kerala|                  3.0|    0|                      0.0|        0|         0|            0|\n",
      "|2020-02-10|            Kerala|                  3.0|    0|                      0.0|        0|         0|            0|\n",
      "|2020-02-11|            Kerala|                  3.0|    0|                      0.0|        0|         0|            0|\n",
      "|2020-02-12|            Kerala|                  3.0|    0|                      0.0|        0|         0|            0|\n",
      "|2020-02-13|            Kerala|                  3.0|    0|                      0.0|        0|         0|            0|\n",
      "|2020-02-14|            Kerala|                  3.0|    0|                      0.0|        0|         0|            0|\n",
      "|2020-02-15|            Kerala|                  3.0|    0|                      0.0|        0|         0|            0|\n",
      "|2020-02-16|            Kerala|                  3.0|    0|                      0.0|        0|         0|            0|\n",
      "|2020-02-17|            Kerala|                  3.0|    0|                      0.0|        0|         0|            0|\n",
      "|2020-02-18|            Kerala|                  3.0|    0|                      0.0|        0|         0|            0|\n",
      "+----------+------------------+---------------------+-----+-------------------------+---------+----------+-------------+\n",
      "only showing top 20 rows\n",
      "\n"
     ]
    }
   ],
   "source": [
    "df_coviddata_f.show()"
   ]
  },
  {
   "cell_type": "markdown",
   "id": "2ebfc132",
   "metadata": {},
   "source": [
    "Q1. To Convert all state names to LOWERCASE "
   ]
  },
  {
   "cell_type": "code",
   "execution_count": 180,
   "id": "58218b03",
   "metadata": {},
   "outputs": [
    {
     "name": "stdout",
     "output_type": "stream",
     "text": [
      "+----------------------------------------+\n",
      "|State_InLowerCase                       |\n",
      "+----------------------------------------+\n",
      "|delhi                                   |\n",
      "|maharashtra                             |\n",
      "|meghalaya                               |\n",
      "|odisha                                  |\n",
      "|haryana                                 |\n",
      "|west bengal                             |\n",
      "|goa                                     |\n",
      "|punjab                                  |\n",
      "|jammu and kashmir                       |\n",
      "|dadra and nagar haveli and daman and diu|\n",
      "|karnataka                               |\n",
      "|andhra pradesh                          |\n",
      "|telangana                               |\n",
      "|nagaland                                |\n",
      "|bihar                                   |\n",
      "|madhya pradesh                          |\n",
      "|jharkhand                               |\n",
      "|assam                                   |\n",
      "|kerala                                  |\n",
      "|tamil nadu                              |\n",
      "+----------------------------------------+\n",
      "only showing top 20 rows\n",
      "\n"
     ]
    }
   ],
   "source": [
    "states_in_lowercase = df_coviddata_f.select(F.lower(F.col('Name of State / UT')).alias(\"State_InLowerCase\"))\n",
    "states_in_lowercase.distinct().show(truncate=False)"
   ]
  },
  {
   "cell_type": "markdown",
   "id": "2bd74cc4",
   "metadata": {},
   "source": [
    "Qn2. Day with high covid cases"
   ]
  },
  {
   "cell_type": "code",
   "execution_count": 181,
   "id": "a07cc468",
   "metadata": {},
   "outputs": [
    {
     "name": "stdout",
     "output_type": "stream",
     "text": [
      "+----------+------------------+---------------------+-----+-------------------------+---------+----------+-------------+----------+\n",
      "|      Date|Name of State / UT|Total Confirmed cases|Death|Cured/Discharged/Migrated|New cases|New deaths|New recovered|TotalCases|\n",
      "+----------+------------------+---------------------+-----+-------------------------+---------+----------+-------------+----------+\n",
      "|2020-01-30|            Kerala|                  1.0|    0|                      0.0|        0|         0|            0|       1.0|\n",
      "|2020-01-31|            Kerala|                  1.0|    0|                      0.0|        0|         0|            0|       1.0|\n",
      "|2020-02-01|            Kerala|                  2.0|    0|                      0.0|        1|         0|            0|       3.0|\n",
      "|2020-02-02|            Kerala|                  3.0|    0|                      0.0|        1|         0|            0|       4.0|\n",
      "|2020-02-03|            Kerala|                  3.0|    0|                      0.0|        0|         0|            0|       3.0|\n",
      "|2020-02-04|            Kerala|                  3.0|    0|                      0.0|        0|         0|            0|       3.0|\n",
      "|2020-02-05|            Kerala|                  3.0|    0|                      0.0|        0|         0|            0|       3.0|\n",
      "|2020-02-06|            Kerala|                  3.0|    0|                      0.0|        0|         0|            0|       3.0|\n",
      "|2020-02-07|            Kerala|                  3.0|    0|                      0.0|        0|         0|            0|       3.0|\n",
      "|2020-02-08|            Kerala|                  3.0|    0|                      0.0|        0|         0|            0|       3.0|\n",
      "|2020-02-09|            Kerala|                  3.0|    0|                      0.0|        0|         0|            0|       3.0|\n",
      "|2020-02-10|            Kerala|                  3.0|    0|                      0.0|        0|         0|            0|       3.0|\n",
      "|2020-02-11|            Kerala|                  3.0|    0|                      0.0|        0|         0|            0|       3.0|\n",
      "|2020-02-12|            Kerala|                  3.0|    0|                      0.0|        0|         0|            0|       3.0|\n",
      "|2020-02-13|            Kerala|                  3.0|    0|                      0.0|        0|         0|            0|       3.0|\n",
      "|2020-02-14|            Kerala|                  3.0|    0|                      0.0|        0|         0|            0|       3.0|\n",
      "|2020-02-15|            Kerala|                  3.0|    0|                      0.0|        0|         0|            0|       3.0|\n",
      "|2020-02-16|            Kerala|                  3.0|    0|                      0.0|        0|         0|            0|       3.0|\n",
      "|2020-02-17|            Kerala|                  3.0|    0|                      0.0|        0|         0|            0|       3.0|\n",
      "|2020-02-18|            Kerala|                  3.0|    0|                      0.0|        0|         0|            0|       3.0|\n",
      "+----------+------------------+---------------------+-----+-------------------------+---------+----------+-------------+----------+\n",
      "only showing top 20 rows\n",
      "\n"
     ]
    }
   ],
   "source": [
    "df_coviddata_f = df_coviddata_f.withColumn(\"TotalCases\", F.col('Total Confirmed cases')+F.col('New cases')-F.col('New recovered')-F.col('Death')-F.col('New deaths'))\n",
    "df_coviddata_f.show()"
   ]
  },
  {
   "cell_type": "code",
   "execution_count": 182,
   "id": "70db1b4d",
   "metadata": {},
   "outputs": [
    {
     "data": {
      "text/plain": [
       "DataFrame[Date: date, TotalCase: double]"
      ]
     },
     "execution_count": 182,
     "metadata": {},
     "output_type": "execute_result"
    }
   ],
   "source": [
    "total_case_by_date = df_coviddata_f.groupBy('Date').agg(F.sum('TotalCases').alias('TotalCase'))\n",
    "total_case_by_date"
   ]
  },
  {
   "cell_type": "code",
   "execution_count": 183,
   "id": "88d6edfb",
   "metadata": {},
   "outputs": [
    {
     "name": "stdout",
     "output_type": "stream",
     "text": [
      "+----------+---------+\n",
      "|      Date|TotalCase|\n",
      "+----------+---------+\n",
      "|2020-08-06|1933998.0|\n",
      "+----------+---------+\n",
      "\n"
     ]
    }
   ],
   "source": [
    "max_covid_case = total_case_by_date.orderBy(F.col('TotalCase').desc()).limit(1)\n",
    "max_covid_case.show()"
   ]
  },
  {
   "cell_type": "markdown",
   "id": "bc52505b",
   "metadata": {},
   "source": [
    "Qn3. State that has second largest covid test cases"
   ]
  },
  {
   "cell_type": "code",
   "execution_count": 184,
   "id": "5f5725e1",
   "metadata": {},
   "outputs": [
    {
     "name": "stdout",
     "output_type": "stream",
     "text": [
      "+----------------------------------------+---------+\n",
      "|Name of State / UT                      |TotalCase|\n",
      "+----------------------------------------+---------+\n",
      "|Nagaland                                |46756.0  |\n",
      "|Karnataka                               |2759449.0|\n",
      "|Odisha                                  |840908.0 |\n",
      "|Kerala                                  |605976.0 |\n",
      "|Ladakh                                  |57501.0  |\n",
      "|Dadra and Nagar Haveli and Daman and Diu|26568.0  |\n",
      "|Tamil Nadu                              |7793962.0|\n",
      "|Telengana                               |102604.0 |\n",
      "|Chhattisgarh                            |257817.0 |\n",
      "|Andhra Pradesh                          |2793600.0|\n",
      "|Madhya Pradesh                          |1253710.0|\n",
      "|Punjab                                  |533977.0 |\n",
      "|Manipur                                 |85188.0  |\n",
      "|Goa                                     |152020.0 |\n",
      "|Mizoram                                 |13585.0  |\n",
      "|Himachal Pradesh                        |80978.0  |\n",
      "|Puducherry                              |83519.0  |\n",
      "|Haryana                                 |1152828.0|\n",
      "|Jammu and Kashmir                       |682059.0 |\n",
      "|Jharkhand                               |289417.0 |\n",
      "+----------------------------------------+---------+\n",
      "only showing top 20 rows\n",
      "\n"
     ]
    }
   ],
   "source": [
    "total_case_by_state = df_coviddata_f.groupBy('Name of State / UT').agg(F.sum('TotalCases').alias('TotalCase'))\n",
    "total_case_by_state.show(truncate=False)"
   ]
  },
  {
   "cell_type": "code",
   "execution_count": 185,
   "id": "188a109b",
   "metadata": {},
   "outputs": [],
   "source": [
    "window_spec = Window.orderBy(F.col('TotalCase').desc())\n",
    "ranked_covid_cases = total_case_by_state.withColumn('rank', F.row_number().over(window_spec))\n",
    "second_largest_df = ranked_covid_cases.filter(F.col('rank') == 2)"
   ]
  },
  {
   "cell_type": "code",
   "execution_count": 186,
   "id": "f4db6de3",
   "metadata": {},
   "outputs": [
    {
     "name": "stdout",
     "output_type": "stream",
     "text": [
      "+------------------+---------+\n",
      "|Name of State / UT|TotalCase|\n",
      "+------------------+---------+\n",
      "|        Tamil Nadu|7793962.0|\n",
      "+------------------+---------+\n",
      "\n"
     ]
    }
   ],
   "source": [
    "second_largest_df.drop('rank').show()"
   ]
  },
  {
   "cell_type": "markdown",
   "id": "b718b94f",
   "metadata": {},
   "source": [
    "Qn4. Which union teritory has least number of deaths"
   ]
  },
  {
   "cell_type": "code",
   "execution_count": 187,
   "id": "785b6ba4",
   "metadata": {},
   "outputs": [
    {
     "name": "stdout",
     "output_type": "stream",
     "text": [
      "+----------+--------------------+---------------------+-----+-------------------------+---------+----------+-------------+----------+\n",
      "|      Date|  Name of State / UT|Total Confirmed cases|Death|Cured/Discharged/Migrated|New cases|New deaths|New recovered|TotalCases|\n",
      "+----------+--------------------+---------------------+-----+-------------------------+---------+----------+-------------+----------+\n",
      "|2020-03-07|Union Territory o...|                  2.0|    0|                      0.0|        0|         0|            0|       2.0|\n",
      "|2020-03-08|Union Territory o...|                  2.0|    0|                      0.0|        0|         0|            0|       2.0|\n",
      "|2020-03-09|Union Territory o...|                  1.0|    0|                      0.0|        0|         0|            0|       1.0|\n",
      "|2020-03-09|Union Territory o...|                  2.0|    0|                      0.0|        0|         0|            0|       2.0|\n",
      "|2020-03-10|Union Territory o...|                  1.0|    0|                      0.0|        0|         0|            0|       1.0|\n",
      "|2020-03-10|Union Territory o...|                  2.0|    0|                      0.0|        0|         0|            0|       2.0|\n",
      "|2020-03-11|Union Territory o...|                  1.0|    0|                      0.0|        0|         0|            0|       1.0|\n",
      "|2020-03-11|Union Territory o...|                  2.0|    0|                      0.0|        0|         0|            0|       2.0|\n",
      "|2020-03-12|Union Territory o...|                  1.0|    0|                      0.0|        0|         0|            0|       1.0|\n",
      "|2020-03-12|Union Territory o...|                  3.0|    0|                      0.0|        1|         0|            0|       4.0|\n",
      "|2020-03-13|Union Territory o...|                  1.0|    0|                      0.0|        0|         0|            0|       1.0|\n",
      "|2020-03-13|Union Territory o...|                  3.0|    0|                      0.0|        0|         0|            0|       3.0|\n",
      "|2020-03-14|Union Territory o...|                  2.0|    0|                      0.0|        1|         0|            0|       3.0|\n",
      "|2020-03-14|Union Territory o...|                  3.0|    0|                      0.0|        0|         0|            0|       3.0|\n",
      "|2020-03-15|Union Territory o...|                  2.0|    0|                      0.0|        0|         0|            0|       2.0|\n",
      "|2020-03-15|Union Territory o...|                  3.0|    0|                      0.0|        0|         0|            0|       3.0|\n",
      "|2020-03-16|Union Territory o...|                  3.0|    0|                      0.0|        1|         0|            0|       4.0|\n",
      "|2020-03-16|Union Territory o...|                  4.0|    0|                      0.0|        1|         0|            0|       5.0|\n",
      "|2020-03-17|Union Territory o...|                  3.0|    0|                      0.0|        0|         0|            0|       3.0|\n",
      "|2020-03-17|Union Territory o...|                  6.0|    0|                      0.0|        2|         0|            0|       8.0|\n",
      "+----------+--------------------+---------------------+-----+-------------------------+---------+----------+-------------+----------+\n",
      "only showing top 20 rows\n",
      "\n"
     ]
    }
   ],
   "source": [
    "ut_df = df_coviddata_f.filter(F.col('Name of State / UT').like('Union Territory of%'))\n",
    "ut_df.show()"
   ]
  },
  {
   "cell_type": "code",
   "execution_count": 188,
   "id": "ee715c4a",
   "metadata": {},
   "outputs": [
    {
     "name": "stdout",
     "output_type": "stream",
     "text": [
      "+------------------------------------+-----------+\n",
      "|Name of State / UT                  |TotalDeaths|\n",
      "+------------------------------------+-----------+\n",
      "|Union Territory of Jammu and Kashmir|0          |\n",
      "+------------------------------------+-----------+\n",
      "\n"
     ]
    }
   ],
   "source": [
    "ut_covid_death_cases = ut_df.groupBy('Name of State / UT').agg(F.sum('Death').alias('TotalDeaths'))\n",
    "ut_with_least_death = ut_covid_death_cases.orderBy(F.col('TotalDeaths')).limit(1)\n",
    "ut_with_least_death.show(truncate=False)"
   ]
  },
  {
   "cell_type": "markdown",
   "id": "b9ed14e1",
   "metadata": {},
   "source": [
    "Qn5. State with lowest death to confirmed case ratio"
   ]
  },
  {
   "cell_type": "code",
   "execution_count": 189,
   "id": "42168dba",
   "metadata": {},
   "outputs": [
    {
     "name": "stdout",
     "output_type": "stream",
     "text": [
      "+----------+------------------+---------------------+-----+-------------------------+---------+----------+-------------+----------+-----+\n",
      "|      Date|Name of State / UT|Total Confirmed cases|Death|Cured/Discharged/Migrated|New cases|New deaths|New recovered|TotalCases|Ratio|\n",
      "+----------+------------------+---------------------+-----+-------------------------+---------+----------+-------------+----------+-----+\n",
      "|2020-01-30|            Kerala|                  1.0|    0|                      0.0|        0|         0|            0|       1.0|  0.0|\n",
      "|2020-01-31|            Kerala|                  1.0|    0|                      0.0|        0|         0|            0|       1.0|  0.0|\n",
      "|2020-02-01|            Kerala|                  2.0|    0|                      0.0|        1|         0|            0|       3.0|  0.0|\n",
      "|2020-02-02|            Kerala|                  3.0|    0|                      0.0|        1|         0|            0|       4.0|  0.0|\n",
      "|2020-02-03|            Kerala|                  3.0|    0|                      0.0|        0|         0|            0|       3.0|  0.0|\n",
      "|2020-02-04|            Kerala|                  3.0|    0|                      0.0|        0|         0|            0|       3.0|  0.0|\n",
      "|2020-02-05|            Kerala|                  3.0|    0|                      0.0|        0|         0|            0|       3.0|  0.0|\n",
      "|2020-02-06|            Kerala|                  3.0|    0|                      0.0|        0|         0|            0|       3.0|  0.0|\n",
      "|2020-02-07|            Kerala|                  3.0|    0|                      0.0|        0|         0|            0|       3.0|  0.0|\n",
      "|2020-02-08|            Kerala|                  3.0|    0|                      0.0|        0|         0|            0|       3.0|  0.0|\n",
      "|2020-02-09|            Kerala|                  3.0|    0|                      0.0|        0|         0|            0|       3.0|  0.0|\n",
      "|2020-02-10|            Kerala|                  3.0|    0|                      0.0|        0|         0|            0|       3.0|  0.0|\n",
      "|2020-02-11|            Kerala|                  3.0|    0|                      0.0|        0|         0|            0|       3.0|  0.0|\n",
      "|2020-02-12|            Kerala|                  3.0|    0|                      0.0|        0|         0|            0|       3.0|  0.0|\n",
      "|2020-02-13|            Kerala|                  3.0|    0|                      0.0|        0|         0|            0|       3.0|  0.0|\n",
      "|2020-02-14|            Kerala|                  3.0|    0|                      0.0|        0|         0|            0|       3.0|  0.0|\n",
      "|2020-02-15|            Kerala|                  3.0|    0|                      0.0|        0|         0|            0|       3.0|  0.0|\n",
      "|2020-02-16|            Kerala|                  3.0|    0|                      0.0|        0|         0|            0|       3.0|  0.0|\n",
      "|2020-02-17|            Kerala|                  3.0|    0|                      0.0|        0|         0|            0|       3.0|  0.0|\n",
      "|2020-02-18|            Kerala|                  3.0|    0|                      0.0|        0|         0|            0|       3.0|  0.0|\n",
      "+----------+------------------+---------------------+-----+-------------------------+---------+----------+-------------+----------+-----+\n",
      "only showing top 20 rows\n",
      "\n"
     ]
    }
   ],
   "source": [
    "df_coviddata_f = df_coviddata_f.withColumn('Ratio', (F.col('Death') / F.col('Total Confirmed cases')).cast(types.DoubleType()))\n",
    "df_coviddata_f.show()"
   ]
  },
  {
   "cell_type": "code",
   "execution_count": 190,
   "id": "a34d5a82",
   "metadata": {},
   "outputs": [
    {
     "name": "stdout",
     "output_type": "stream",
     "text": [
      "+----------------------------------------+---------------------+\n",
      "|Name of State / UT                      |Ratio                |\n",
      "+----------------------------------------+---------------------+\n",
      "|Nagaland                                |5.148898929658259E-4 |\n",
      "|Karnataka                               |0.031754025497581745 |\n",
      "|Odisha                                  |0.005638267232158746 |\n",
      "|Kerala                                  |0.004188629705022502 |\n",
      "|Ladakh                                  |0.0014909269205045839|\n",
      "|Dadra and Nagar Haveli and Daman and Diu|6.431815799792035E-4 |\n",
      "|Tamil Nadu                              |0.010024093518879517 |\n",
      "|Telengana                               |0.019244516020895063 |\n",
      "|Chhattisgarh                            |0.002177624004674632 |\n",
      "|Andhra Pradesh                          |0.01398904872015251  |\n",
      "|Madhya Pradesh                          |0.04409446528702753  |\n",
      "|Punjab                                  |0.038667648638451915 |\n",
      "|Manipur                                 |1.1465166638203264E-4|\n",
      "|Goa                                     |0.0016954637015052856|\n",
      "|Mizoram                                 |0.0                  |\n",
      "|Himachal Pradesh                        |0.04592398036858498  |\n",
      "|Puducherry                              |0.01036205027291044  |\n",
      "|Haryana                                 |0.010165705323543295 |\n",
      "|Jammu and Kashmir                       |0.01611614309664824  |\n",
      "|Jharkhand                               |0.017800505247123993 |\n",
      "+----------------------------------------+---------------------+\n",
      "only showing top 20 rows\n",
      "\n"
     ]
    }
   ],
   "source": [
    "df = df_coviddata_f.groupBy('Name of State / UT').agg(F.avg('Ratio').alias('Ratio'))\n",
    "df.show(truncate=False)"
   ]
  },
  {
   "cell_type": "code",
   "execution_count": 191,
   "id": "ab6654a7",
   "metadata": {},
   "outputs": [
    {
     "name": "stdout",
     "output_type": "stream",
     "text": [
      "+------------------+-----+\n",
      "|Name of State / UT|Ratio|\n",
      "+------------------+-----+\n",
      "|           Mizoram|  0.0|\n",
      "+------------------+-----+\n",
      "\n"
     ]
    }
   ],
   "source": [
    "df = df.orderBy(F.col('Ratio')).limit(1)\n",
    "df.show()"
   ]
  },
  {
   "cell_type": "markdown",
   "id": "02c43342",
   "metadata": {},
   "source": [
    "Qn6. Month with more recored cases"
   ]
  },
  {
   "cell_type": "code",
   "execution_count": 192,
   "id": "fc3812fd",
   "metadata": {},
   "outputs": [],
   "source": [
    "month_mapping = {\n",
    "    1: 'January', 2: 'February', 3: 'March', 4: 'April', 5: 'May', 6: 'June',\n",
    "    7: 'July', 8: 'August', 9: 'September', 10: 'October', 11: 'November', 12: 'December'\n",
    "}"
   ]
  },
  {
   "cell_type": "code",
   "execution_count": 193,
   "id": "343c4fd1",
   "metadata": {},
   "outputs": [],
   "source": [
    "def get_month_name(month_number):\n",
    "    return month_mapping.get(month_number, 'None')"
   ]
  },
  {
   "cell_type": "code",
   "execution_count": 194,
   "id": "0a16d834",
   "metadata": {},
   "outputs": [],
   "source": [
    "get_month_name_udf = F.udf(get_month_name, types.StringType())"
   ]
  },
  {
   "cell_type": "code",
   "execution_count": 195,
   "id": "fbe9c7f4",
   "metadata": {},
   "outputs": [],
   "source": [
    "df_coviddata_f = df_coviddata_f.withColumn(\"month\", F.month(F.col(\"Date\")))"
   ]
  },
  {
   "cell_type": "code",
   "execution_count": 196,
   "id": "cd513aec",
   "metadata": {},
   "outputs": [
    {
     "name": "stdout",
     "output_type": "stream",
     "text": [
      "+----------+------------------+---------------------+-----+-------------------------+---------+----------+-------------+----------+-----+-----+\n",
      "|      Date|Name of State / UT|Total Confirmed cases|Death|Cured/Discharged/Migrated|New cases|New deaths|New recovered|TotalCases|Ratio|month|\n",
      "+----------+------------------+---------------------+-----+-------------------------+---------+----------+-------------+----------+-----+-----+\n",
      "|2020-01-30|            Kerala|                  1.0|    0|                      0.0|        0|         0|            0|       1.0|  0.0|    1|\n",
      "|2020-01-31|            Kerala|                  1.0|    0|                      0.0|        0|         0|            0|       1.0|  0.0|    1|\n",
      "|2020-02-01|            Kerala|                  2.0|    0|                      0.0|        1|         0|            0|       3.0|  0.0|    2|\n",
      "|2020-02-02|            Kerala|                  3.0|    0|                      0.0|        1|         0|            0|       4.0|  0.0|    2|\n",
      "|2020-02-03|            Kerala|                  3.0|    0|                      0.0|        0|         0|            0|       3.0|  0.0|    2|\n",
      "|2020-02-04|            Kerala|                  3.0|    0|                      0.0|        0|         0|            0|       3.0|  0.0|    2|\n",
      "|2020-02-05|            Kerala|                  3.0|    0|                      0.0|        0|         0|            0|       3.0|  0.0|    2|\n",
      "|2020-02-06|            Kerala|                  3.0|    0|                      0.0|        0|         0|            0|       3.0|  0.0|    2|\n",
      "|2020-02-07|            Kerala|                  3.0|    0|                      0.0|        0|         0|            0|       3.0|  0.0|    2|\n",
      "|2020-02-08|            Kerala|                  3.0|    0|                      0.0|        0|         0|            0|       3.0|  0.0|    2|\n",
      "|2020-02-09|            Kerala|                  3.0|    0|                      0.0|        0|         0|            0|       3.0|  0.0|    2|\n",
      "|2020-02-10|            Kerala|                  3.0|    0|                      0.0|        0|         0|            0|       3.0|  0.0|    2|\n",
      "|2020-02-11|            Kerala|                  3.0|    0|                      0.0|        0|         0|            0|       3.0|  0.0|    2|\n",
      "|2020-02-12|            Kerala|                  3.0|    0|                      0.0|        0|         0|            0|       3.0|  0.0|    2|\n",
      "|2020-02-13|            Kerala|                  3.0|    0|                      0.0|        0|         0|            0|       3.0|  0.0|    2|\n",
      "|2020-02-14|            Kerala|                  3.0|    0|                      0.0|        0|         0|            0|       3.0|  0.0|    2|\n",
      "|2020-02-15|            Kerala|                  3.0|    0|                      0.0|        0|         0|            0|       3.0|  0.0|    2|\n",
      "|2020-02-16|            Kerala|                  3.0|    0|                      0.0|        0|         0|            0|       3.0|  0.0|    2|\n",
      "|2020-02-17|            Kerala|                  3.0|    0|                      0.0|        0|         0|            0|       3.0|  0.0|    2|\n",
      "|2020-02-18|            Kerala|                  3.0|    0|                      0.0|        0|         0|            0|       3.0|  0.0|    2|\n",
      "+----------+------------------+---------------------+-----+-------------------------+---------+----------+-------------+----------+-----+-----+\n",
      "only showing top 20 rows\n",
      "\n"
     ]
    }
   ],
   "source": [
    "df_coviddata_f.show()"
   ]
  },
  {
   "cell_type": "code",
   "execution_count": 197,
   "id": "36bd9a49",
   "metadata": {},
   "outputs": [
    {
     "name": "stdout",
     "output_type": "stream",
     "text": [
      "+-----+------------------------------+\n",
      "|month|total_recovered_cases_by_month|\n",
      "+-----+------------------------------+\n",
      "|    1|                             0|\n",
      "|    6|                        247662|\n",
      "|    3|                           124|\n",
      "|    5|                         78659|\n",
      "|    4|                          8201|\n",
      "|    8|                        270531|\n",
      "|    7|                        722983|\n",
      "|    2|                             0|\n",
      "+-----+------------------------------+\n",
      "\n"
     ]
    }
   ],
   "source": [
    "monthly_recovery_df = df_coviddata_f.groupBy(\"month\").agg(F.sum(\"New recovered\").alias(\"total_recovered_cases_by_month\"))\n",
    "monthly_recovery_df.show()"
   ]
  },
  {
   "cell_type": "code",
   "execution_count": 198,
   "id": "ea2ce7e6",
   "metadata": {},
   "outputs": [
    {
     "name": "stdout",
     "output_type": "stream",
     "text": [
      "+-----+------------------------------+\n",
      "|month|total_recovered_cases_by_month|\n",
      "+-----+------------------------------+\n",
      "|    7|                        722983|\n",
      "+-----+------------------------------+\n",
      "\n"
     ]
    }
   ],
   "source": [
    "month_with_max_recovered = monthly_recovery_df.orderBy(F.col('total_recovered_cases_by_month').desc()).limit(1)\n",
    "month_with_max_recovered.show()"
   ]
  },
  {
   "cell_type": "code",
   "execution_count": 200,
   "id": "12f3477f",
   "metadata": {},
   "outputs": [
    {
     "data": {
      "text/plain": [
       "'July'"
      ]
     },
     "execution_count": 200,
     "metadata": {},
     "output_type": "execute_result"
    }
   ],
   "source": [
    "max_recovered_row = month_with_max_recovered.collect()[0]\n",
    "month = month_mapping.get(max_recovered_row['month'], 'Unknown')\n",
    "month"
   ]
  }
 ],
 "metadata": {
  "kernelspec": {
   "display_name": "Python 3 (ipykernel)",
   "language": "python",
   "name": "python3"
  },
  "language_info": {
   "codemirror_mode": {
    "name": "ipython",
    "version": 3
   },
   "file_extension": ".py",
   "mimetype": "text/x-python",
   "name": "python",
   "nbconvert_exporter": "python",
   "pygments_lexer": "ipython3",
   "version": "3.12.4"
  }
 },
 "nbformat": 4,
 "nbformat_minor": 5
}
