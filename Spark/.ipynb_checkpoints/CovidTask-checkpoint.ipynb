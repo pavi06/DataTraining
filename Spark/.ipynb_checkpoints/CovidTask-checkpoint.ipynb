{
 "cells": [
  {
   "cell_type": "code",
   "execution_count": 48,
   "id": "b3e8be02",
   "metadata": {},
   "outputs": [
    {
     "data": {
      "text/plain": [
       "'c:\\\\Python312\\\\Lib\\\\site-packages\\\\pyspark'"
      ]
     },
     "execution_count": 48,
     "metadata": {},
     "output_type": "execute_result"
    }
   ],
   "source": [
    "import findspark \n",
    "\n",
    "findspark.init()\n",
    "findspark.find()"
   ]
  },
  {
   "cell_type": "code",
   "execution_count": 1,
   "id": "fe054f20-1228-474c-a831-af6e65332514",
   "metadata": {},
   "outputs": [],
   "source": [
    "from pyspark.sql import SparkSession\n",
    "import pyspark.sql.functions as F\n",
    "from pyspark.sql import types "
   ]
  },
  {
   "cell_type": "code",
   "execution_count": 2,
   "id": "bcd618d6",
   "metadata": {},
   "outputs": [],
   "source": [
    "from pyspark.sql.window import Window"
   ]
  },
  {
   "cell_type": "code",
   "execution_count": 3,
   "id": "5bbc181e",
   "metadata": {},
   "outputs": [],
   "source": [
    "# creating a session\n",
    "spark = SparkSession.builder.appName('CovidCaseAnalysis').getOrCreate()"
   ]
  },
  {
   "cell_type": "code",
   "execution_count": 4,
   "id": "d8130fd1",
   "metadata": {},
   "outputs": [],
   "source": [
    "spark_context = spark.sparkContext"
   ]
  },
  {
   "cell_type": "code",
   "execution_count": 5,
   "id": "b5c0961b",
   "metadata": {},
   "outputs": [
    {
     "data": {
      "text/html": [
       "\n",
       "        <div>\n",
       "            <p><b>SparkContext</b></p>\n",
       "\n",
       "            <p><a href=\"http://853CBX3:4041\">Spark UI</a></p>\n",
       "\n",
       "            <dl>\n",
       "              <dt>Version</dt>\n",
       "                <dd><code>v3.5.2</code></dd>\n",
       "              <dt>Master</dt>\n",
       "                <dd><code>local[*]</code></dd>\n",
       "              <dt>AppName</dt>\n",
       "                <dd><code>CovidCaseAnalysis</code></dd>\n",
       "            </dl>\n",
       "        </div>\n",
       "        "
      ],
      "text/plain": [
       "<SparkContext master=local[*] appName=CovidCaseAnalysis>"
      ]
     },
     "execution_count": 5,
     "metadata": {},
     "output_type": "execute_result"
    }
   ],
   "source": [
    "spark_context"
   ]
  },
  {
   "cell_type": "code",
   "execution_count": 6,
   "id": "2aaaab18",
   "metadata": {},
   "outputs": [],
   "source": [
    "#load the csv file, enabling header and datatypes with it\n",
    "df_coviddata = spark.read.csv('covid_cases_dataset.csv', header=True, inferSchema=True)\n",
    "# df_coviddata2 = spark.read.option('header', 'true').csv('covid_cases_dataset.csv')"
   ]
  },
  {
   "cell_type": "code",
   "execution_count": 7,
   "id": "b2e8e687",
   "metadata": {},
   "outputs": [
    {
     "name": "stdout",
     "output_type": "stream",
     "text": [
      "root\n",
      " |-- Date: string (nullable = true)\n",
      " |-- Name of State / UT: string (nullable = true)\n",
      " |-- Latitude: double (nullable = true)\n",
      " |-- Longitude: double (nullable = true)\n",
      " |-- Total Confirmed cases: integer (nullable = true)\n",
      " |-- Death: string (nullable = true)\n",
      " |-- Cured/Discharged/Migrated: integer (nullable = true)\n",
      " |-- New cases: integer (nullable = true)\n",
      " |-- New deaths: integer (nullable = true)\n",
      " |-- New recovered: integer (nullable = true)\n",
      "\n"
     ]
    }
   ],
   "source": [
    "#to see the structure of the dataset\n",
    "df_coviddata.printSchema()"
   ]
  },
  {
   "cell_type": "code",
   "execution_count": 8,
   "id": "5d24947f",
   "metadata": {},
   "outputs": [],
   "source": [
    "df_coviddata = df_coviddata.withColumn(\"Death\", df_coviddata[\"Death\"].cast(types.IntegerType()))"
   ]
  },
  {
   "cell_type": "code",
   "execution_count": 9,
   "id": "1146d389",
   "metadata": {},
   "outputs": [
    {
     "name": "stdout",
     "output_type": "stream",
     "text": [
      "root\n",
      " |-- Date: string (nullable = true)\n",
      " |-- Name of State / UT: string (nullable = true)\n",
      " |-- Latitude: double (nullable = true)\n",
      " |-- Longitude: double (nullable = true)\n",
      " |-- Total Confirmed cases: integer (nullable = true)\n",
      " |-- Death: integer (nullable = true)\n",
      " |-- Cured/Discharged/Migrated: integer (nullable = true)\n",
      " |-- New cases: integer (nullable = true)\n",
      " |-- New deaths: integer (nullable = true)\n",
      " |-- New recovered: integer (nullable = true)\n",
      "\n"
     ]
    }
   ],
   "source": [
    "df_coviddata.printSchema()"
   ]
  },
  {
   "cell_type": "code",
   "execution_count": 10,
   "id": "f30fe6ed",
   "metadata": {},
   "outputs": [],
   "source": [
    "numeric_cols = ['Total Confirmed cases','Death','Cured/Discharged/Migrated','New cases','New deaths','New recovered']\n",
    "df_coviddata_f = df_coviddata.fillna(0, subset=numeric_cols)"
   ]
  },
  {
   "cell_type": "code",
   "execution_count": 11,
   "id": "95dd7b5e",
   "metadata": {},
   "outputs": [],
   "source": [
    "string_cols = ['Date','Name of State / UT']\n",
    "df_coviddata_f = df_coviddata_f.dropna(subset=string_cols)"
   ]
  },
  {
   "cell_type": "code",
   "execution_count": 12,
   "id": "3417b935",
   "metadata": {},
   "outputs": [
    {
     "name": "stdout",
     "output_type": "stream",
     "text": [
      "root\n",
      " |-- Date: string (nullable = true)\n",
      " |-- Name of State / UT: string (nullable = true)\n",
      " |-- Total Confirmed cases: integer (nullable = true)\n",
      " |-- Death: integer (nullable = true)\n",
      " |-- Cured/Discharged/Migrated: integer (nullable = true)\n",
      " |-- New cases: integer (nullable = true)\n",
      " |-- New deaths: integer (nullable = true)\n",
      " |-- New recovered: integer (nullable = true)\n",
      "\n"
     ]
    }
   ],
   "source": [
    "df_coviddata_f = df_coviddata.drop(F.col('Latitude'))\n",
    "df_coviddata_f = df_coviddata_f.drop(F.col('Longitude'))\n",
    "df_coviddata_f.printSchema()"
   ]
  },
  {
   "cell_type": "code",
   "execution_count": 62,
   "id": "35602cc2",
   "metadata": {},
   "outputs": [
    {
     "name": "stdout",
     "output_type": "stream",
     "text": [
      "+----------+------------------+--------+---------+---------------------+-----+-------------------------+---------+----------+-------------+\n",
      "|      Date|Name of State / UT|Latitude|Longitude|Total Confirmed cases|Death|Cured/Discharged/Migrated|New cases|New deaths|New recovered|\n",
      "+----------+------------------+--------+---------+---------------------+-----+-------------------------+---------+----------+-------------+\n",
      "|30-01-2020|            Kerala| 10.8505|  76.2711|                    1|    0|                        0|        0|         0|            0|\n",
      "|31-01-2020|            Kerala| 10.8505|  76.2711|                    1|    0|                        0|        0|         0|            0|\n",
      "|01-02-2020|            Kerala| 10.8505|  76.2711|                    2|    0|                        0|        1|         0|            0|\n",
      "|02-02-2020|            Kerala| 10.8505|  76.2711|                    3|    0|                        0|        1|         0|            0|\n",
      "|03-02-2020|            Kerala| 10.8505|  76.2711|                    3|    0|                        0|        0|         0|            0|\n",
      "|04-02-2020|            Kerala| 10.8505|  76.2711|                    3|    0|                        0|        0|         0|            0|\n",
      "|05-02-2020|            Kerala| 10.8505|  76.2711|                    3|    0|                        0|        0|         0|            0|\n",
      "|06-02-2020|            Kerala| 10.8505|  76.2711|                    3|    0|                        0|        0|         0|            0|\n",
      "|07-02-2020|            Kerala| 10.8505|  76.2711|                    3|    0|                        0|        0|         0|            0|\n",
      "|08-02-2020|            Kerala| 10.8505|  76.2711|                    3|    0|                        0|        0|         0|            0|\n",
      "|09-02-2020|            Kerala| 10.8505|  76.2711|                    3|    0|                        0|        0|         0|            0|\n",
      "|10-02-2020|            Kerala| 10.8505|  76.2711|                    3|    0|                        0|        0|         0|            0|\n",
      "|11-02-2020|            Kerala| 10.8505|  76.2711|                    3|    0|                        0|        0|         0|            0|\n",
      "|12-02-2020|            Kerala| 10.8505|  76.2711|                    3|    0|                        0|        0|         0|            0|\n",
      "|13-02-2020|            Kerala| 10.8505|  76.2711|                    3|    0|                        0|        0|         0|            0|\n",
      "|14-02-2020|            Kerala| 10.8505|  76.2711|                    3|    0|                        0|        0|         0|            0|\n",
      "|15-02-2020|            Kerala| 10.8505|  76.2711|                    3|    0|                        0|        0|         0|            0|\n",
      "|16-02-2020|            Kerala| 10.8505|  76.2711|                    3|    0|                        0|        0|         0|            0|\n",
      "|17-02-2020|            Kerala| 10.8505|  76.2711|                    3|    0|                        0|        0|         0|            0|\n",
      "|18-02-2020|            Kerala| 10.8505|  76.2711|                    3|    0|                        0|        0|         0|            0|\n",
      "+----------+------------------+--------+---------+---------------------+-----+-------------------------+---------+----------+-------------+\n",
      "only showing top 20 rows\n",
      "\n"
     ]
    }
   ],
   "source": [
    "df_coviddata_f.show()"
   ]
  },
  {
   "cell_type": "code",
   "execution_count": 100,
   "id": "ff0b1c4a",
   "metadata": {},
   "outputs": [],
   "source": [
    "df_coviddata = (df_coviddata\n",
    "    .withColumn(\"State\", df_coviddata[\"Name of State / UT\"])\n",
    "    .withColumn(\"Cured\", df_coviddata[\"Cured/Discharged/Migrated\"])\n",
    ")"
   ]
  },
  {
   "cell_type": "code",
   "execution_count": 101,
   "id": "c64e1070",
   "metadata": {},
   "outputs": [
    {
     "name": "stdout",
     "output_type": "stream",
     "text": [
      "+----------+------------------+--------+---------+---------------------+-----+-------------------------+---------+----------+-------------+------+-----+\n",
      "|      Date|Name of State / UT|Latitude|Longitude|Total Confirmed cases|Death|Cured/Discharged/Migrated|New cases|New deaths|New recovered| State|Cured|\n",
      "+----------+------------------+--------+---------+---------------------+-----+-------------------------+---------+----------+-------------+------+-----+\n",
      "|30-01-2020|            Kerala| 10.8505|  76.2711|                    1|    0|                        0|        0|         0|            0|Kerala|    0|\n",
      "|31-01-2020|            Kerala| 10.8505|  76.2711|                    1|    0|                        0|        0|         0|            0|Kerala|    0|\n",
      "|01-02-2020|            Kerala| 10.8505|  76.2711|                    2|    0|                        0|        1|         0|            0|Kerala|    0|\n",
      "|02-02-2020|            Kerala| 10.8505|  76.2711|                    3|    0|                        0|        1|         0|            0|Kerala|    0|\n",
      "|03-02-2020|            Kerala| 10.8505|  76.2711|                    3|    0|                        0|        0|         0|            0|Kerala|    0|\n",
      "|04-02-2020|            Kerala| 10.8505|  76.2711|                    3|    0|                        0|        0|         0|            0|Kerala|    0|\n",
      "|05-02-2020|            Kerala| 10.8505|  76.2711|                    3|    0|                        0|        0|         0|            0|Kerala|    0|\n",
      "|06-02-2020|            Kerala| 10.8505|  76.2711|                    3|    0|                        0|        0|         0|            0|Kerala|    0|\n",
      "|07-02-2020|            Kerala| 10.8505|  76.2711|                    3|    0|                        0|        0|         0|            0|Kerala|    0|\n",
      "|08-02-2020|            Kerala| 10.8505|  76.2711|                    3|    0|                        0|        0|         0|            0|Kerala|    0|\n",
      "|09-02-2020|            Kerala| 10.8505|  76.2711|                    3|    0|                        0|        0|         0|            0|Kerala|    0|\n",
      "|10-02-2020|            Kerala| 10.8505|  76.2711|                    3|    0|                        0|        0|         0|            0|Kerala|    0|\n",
      "|11-02-2020|            Kerala| 10.8505|  76.2711|                    3|    0|                        0|        0|         0|            0|Kerala|    0|\n",
      "|12-02-2020|            Kerala| 10.8505|  76.2711|                    3|    0|                        0|        0|         0|            0|Kerala|    0|\n",
      "|13-02-2020|            Kerala| 10.8505|  76.2711|                    3|    0|                        0|        0|         0|            0|Kerala|    0|\n",
      "|14-02-2020|            Kerala| 10.8505|  76.2711|                    3|    0|                        0|        0|         0|            0|Kerala|    0|\n",
      "|15-02-2020|            Kerala| 10.8505|  76.2711|                    3|    0|                        0|        0|         0|            0|Kerala|    0|\n",
      "|16-02-2020|            Kerala| 10.8505|  76.2711|                    3|    0|                        0|        0|         0|            0|Kerala|    0|\n",
      "|17-02-2020|            Kerala| 10.8505|  76.2711|                    3|    0|                        0|        0|         0|            0|Kerala|    0|\n",
      "|18-02-2020|            Kerala| 10.8505|  76.2711|                    3|    0|                        0|        0|         0|            0|Kerala|    0|\n",
      "+----------+------------------+--------+---------+---------------------+-----+-------------------------+---------+----------+-------------+------+-----+\n",
      "only showing top 20 rows\n",
      "\n"
     ]
    }
   ],
   "source": [
    "df_coviddata.show()"
   ]
  },
  {
   "cell_type": "code",
   "execution_count": 102,
   "id": "f8d097ab",
   "metadata": {},
   "outputs": [
    {
     "data": {
      "text/plain": [
       "DataFrame[Cured: int]"
      ]
     },
     "execution_count": 102,
     "metadata": {},
     "output_type": "execute_result"
    }
   ],
   "source": [
    "# to get a specific colum\n",
    "df_coviddata.select('Cured') # return a dataframe"
   ]
  },
  {
   "cell_type": "code",
   "execution_count": 103,
   "id": "0a6fe3f7",
   "metadata": {},
   "outputs": [
    {
     "name": "stdout",
     "output_type": "stream",
     "text": [
      "+-----+\n",
      "|Cured|\n",
      "+-----+\n",
      "|    0|\n",
      "|    0|\n",
      "|    0|\n",
      "|    0|\n",
      "|    0|\n",
      "|    0|\n",
      "|    0|\n",
      "|    0|\n",
      "|    0|\n",
      "|    0|\n",
      "|    0|\n",
      "|    0|\n",
      "|    0|\n",
      "|    0|\n",
      "|    0|\n",
      "|    0|\n",
      "|    0|\n",
      "|    0|\n",
      "|    0|\n",
      "|    0|\n",
      "+-----+\n",
      "only showing top 20 rows\n",
      "\n"
     ]
    }
   ],
   "source": [
    "df_coviddata.select('Cured').show()"
   ]
  },
  {
   "cell_type": "code",
   "execution_count": 104,
   "id": "c4cd2227",
   "metadata": {},
   "outputs": [
    {
     "name": "stdout",
     "output_type": "stream",
     "text": [
      "+---------------------+-----+\n",
      "|Total Confirmed cases|Cured|\n",
      "+---------------------+-----+\n",
      "|                    1|    0|\n",
      "|                    1|    0|\n",
      "|                    2|    0|\n",
      "|                    3|    0|\n",
      "|                    3|    0|\n",
      "|                    3|    0|\n",
      "|                    3|    0|\n",
      "|                    3|    0|\n",
      "|                    3|    0|\n",
      "|                    3|    0|\n",
      "|                    3|    0|\n",
      "|                    3|    0|\n",
      "|                    3|    0|\n",
      "|                    3|    0|\n",
      "|                    3|    0|\n",
      "|                    3|    0|\n",
      "|                    3|    0|\n",
      "|                    3|    0|\n",
      "|                    3|    0|\n",
      "|                    3|    0|\n",
      "+---------------------+-----+\n",
      "only showing top 20 rows\n",
      "\n"
     ]
    }
   ],
   "source": [
    "#to select multiple columns\n",
    "df_coviddata.select(['Total Confirmed cases','Cured']).show()"
   ]
  },
  {
   "cell_type": "code",
   "execution_count": 105,
   "id": "9fdd5e3c",
   "metadata": {},
   "outputs": [],
   "source": [
    "#to drop a column\n",
    "df_coviddata = df_coviddata.drop('Latitude')\n",
    "df_coviddata = df_coviddata.drop('Longitude')"
   ]
  },
  {
   "cell_type": "code",
   "execution_count": 106,
   "id": "befdfbbf",
   "metadata": {},
   "outputs": [
    {
     "name": "stdout",
     "output_type": "stream",
     "text": [
      "+----------+------------------+---------------------+-----+-------------------------+---------+----------+-------------+------+-----+\n",
      "|      Date|Name of State / UT|Total Confirmed cases|Death|Cured/Discharged/Migrated|New cases|New deaths|New recovered| State|Cured|\n",
      "+----------+------------------+---------------------+-----+-------------------------+---------+----------+-------------+------+-----+\n",
      "|30-01-2020|            Kerala|                    1|    0|                        0|        0|         0|            0|Kerala|    0|\n",
      "|31-01-2020|            Kerala|                    1|    0|                        0|        0|         0|            0|Kerala|    0|\n",
      "|01-02-2020|            Kerala|                    2|    0|                        0|        1|         0|            0|Kerala|    0|\n",
      "|02-02-2020|            Kerala|                    3|    0|                        0|        1|         0|            0|Kerala|    0|\n",
      "|03-02-2020|            Kerala|                    3|    0|                        0|        0|         0|            0|Kerala|    0|\n",
      "|04-02-2020|            Kerala|                    3|    0|                        0|        0|         0|            0|Kerala|    0|\n",
      "|05-02-2020|            Kerala|                    3|    0|                        0|        0|         0|            0|Kerala|    0|\n",
      "|06-02-2020|            Kerala|                    3|    0|                        0|        0|         0|            0|Kerala|    0|\n",
      "|07-02-2020|            Kerala|                    3|    0|                        0|        0|         0|            0|Kerala|    0|\n",
      "|08-02-2020|            Kerala|                    3|    0|                        0|        0|         0|            0|Kerala|    0|\n",
      "|09-02-2020|            Kerala|                    3|    0|                        0|        0|         0|            0|Kerala|    0|\n",
      "|10-02-2020|            Kerala|                    3|    0|                        0|        0|         0|            0|Kerala|    0|\n",
      "|11-02-2020|            Kerala|                    3|    0|                        0|        0|         0|            0|Kerala|    0|\n",
      "|12-02-2020|            Kerala|                    3|    0|                        0|        0|         0|            0|Kerala|    0|\n",
      "|13-02-2020|            Kerala|                    3|    0|                        0|        0|         0|            0|Kerala|    0|\n",
      "|14-02-2020|            Kerala|                    3|    0|                        0|        0|         0|            0|Kerala|    0|\n",
      "|15-02-2020|            Kerala|                    3|    0|                        0|        0|         0|            0|Kerala|    0|\n",
      "|16-02-2020|            Kerala|                    3|    0|                        0|        0|         0|            0|Kerala|    0|\n",
      "|17-02-2020|            Kerala|                    3|    0|                        0|        0|         0|            0|Kerala|    0|\n",
      "|18-02-2020|            Kerala|                    3|    0|                        0|        0|         0|            0|Kerala|    0|\n",
      "+----------+------------------+---------------------+-----+-------------------------+---------+----------+-------------+------+-----+\n",
      "only showing top 20 rows\n",
      "\n"
     ]
    }
   ],
   "source": [
    "df_coviddata.show()"
   ]
  },
  {
   "cell_type": "code",
   "execution_count": 107,
   "id": "98d8a967",
   "metadata": {},
   "outputs": [],
   "source": [
    "#to rename the column\n",
    "df_coviddata = df_coviddata.withColumnRenamed('oldName', 'newName')"
   ]
  },
  {
   "cell_type": "code",
   "execution_count": 108,
   "id": "f4e40e32",
   "metadata": {},
   "outputs": [
    {
     "data": {
      "text/plain": [
       "DataFrame[Date: string, Name of State / UT: string, Total Confirmed cases: int, Death: string, Cured/Discharged/Migrated: int, New cases: int, New deaths: int, New recovered: int, State: string, Cured: int]"
      ]
     },
     "execution_count": 108,
     "metadata": {},
     "output_type": "execute_result"
    }
   ],
   "source": [
    "#drop all nullable rows\n",
    "df_coviddata.na.drop()"
   ]
  },
  {
   "cell_type": "markdown",
   "id": "2ebfc132",
   "metadata": {},
   "source": [
    "Q1. To Convert all state names to LOWERCASE "
   ]
  },
  {
   "cell_type": "code",
   "execution_count": 13,
   "id": "58218b03",
   "metadata": {},
   "outputs": [
    {
     "name": "stdout",
     "output_type": "stream",
     "text": [
      "+--------------------+\n",
      "|   State_InLowerCase|\n",
      "+--------------------+\n",
      "|               delhi|\n",
      "|         maharashtra|\n",
      "|           meghalaya|\n",
      "|              odisha|\n",
      "|             haryana|\n",
      "|         west bengal|\n",
      "|                 goa|\n",
      "|              punjab|\n",
      "|   jammu and kashmir|\n",
      "|dadra and nagar h...|\n",
      "|           karnataka|\n",
      "|      andhra pradesh|\n",
      "|           telangana|\n",
      "|            nagaland|\n",
      "|               bihar|\n",
      "|      madhya pradesh|\n",
      "|           jharkhand|\n",
      "|               assam|\n",
      "|              kerala|\n",
      "|          tamil nadu|\n",
      "+--------------------+\n",
      "only showing top 20 rows\n",
      "\n"
     ]
    }
   ],
   "source": [
    "states_in_lowercase = df_coviddata_f.select(F.lower(F.col('Name of State / UT')).alias(\"State_InLowerCase\"))\n",
    "states_in_lowercase.distinct().show()"
   ]
  },
  {
   "cell_type": "markdown",
   "id": "2bd74cc4",
   "metadata": {},
   "source": [
    "Day with high covid cases"
   ]
  },
  {
   "cell_type": "code",
   "execution_count": 14,
   "id": "a07cc468",
   "metadata": {},
   "outputs": [
    {
     "name": "stdout",
     "output_type": "stream",
     "text": [
      "+----------+------------------+---------------------+-----+-------------------------+---------+----------+-------------+----------+\n",
      "|      Date|Name of State / UT|Total Confirmed cases|Death|Cured/Discharged/Migrated|New cases|New deaths|New recovered|TotalCases|\n",
      "+----------+------------------+---------------------+-----+-------------------------+---------+----------+-------------+----------+\n",
      "|30-01-2020|            Kerala|                    1|    0|                        0|        0|         0|            0|         1|\n",
      "|31-01-2020|            Kerala|                    1|    0|                        0|        0|         0|            0|         1|\n",
      "|01-02-2020|            Kerala|                    2|    0|                        0|        1|         0|            0|         3|\n",
      "|02-02-2020|            Kerala|                    3|    0|                        0|        1|         0|            0|         4|\n",
      "|03-02-2020|            Kerala|                    3|    0|                        0|        0|         0|            0|         3|\n",
      "|04-02-2020|            Kerala|                    3|    0|                        0|        0|         0|            0|         3|\n",
      "|05-02-2020|            Kerala|                    3|    0|                        0|        0|         0|            0|         3|\n",
      "|06-02-2020|            Kerala|                    3|    0|                        0|        0|         0|            0|         3|\n",
      "|07-02-2020|            Kerala|                    3|    0|                        0|        0|         0|            0|         3|\n",
      "|08-02-2020|            Kerala|                    3|    0|                        0|        0|         0|            0|         3|\n",
      "|09-02-2020|            Kerala|                    3|    0|                        0|        0|         0|            0|         3|\n",
      "|10-02-2020|            Kerala|                    3|    0|                        0|        0|         0|            0|         3|\n",
      "|11-02-2020|            Kerala|                    3|    0|                        0|        0|         0|            0|         3|\n",
      "|12-02-2020|            Kerala|                    3|    0|                        0|        0|         0|            0|         3|\n",
      "|13-02-2020|            Kerala|                    3|    0|                        0|        0|         0|            0|         3|\n",
      "|14-02-2020|            Kerala|                    3|    0|                        0|        0|         0|            0|         3|\n",
      "|15-02-2020|            Kerala|                    3|    0|                        0|        0|         0|            0|         3|\n",
      "|16-02-2020|            Kerala|                    3|    0|                        0|        0|         0|            0|         3|\n",
      "|17-02-2020|            Kerala|                    3|    0|                        0|        0|         0|            0|         3|\n",
      "|18-02-2020|            Kerala|                    3|    0|                        0|        0|         0|            0|         3|\n",
      "+----------+------------------+---------------------+-----+-------------------------+---------+----------+-------------+----------+\n",
      "only showing top 20 rows\n",
      "\n"
     ]
    }
   ],
   "source": [
    "df_coviddata_f = df_coviddata_f.withColumn(\"TotalCases\", F.col('Total Confirmed cases')+F.col('New cases')-F.col('New recovered')-F.col('New deaths'))\n",
    "df_coviddata_f.show()"
   ]
  },
  {
   "cell_type": "code",
   "execution_count": 15,
   "id": "70db1b4d",
   "metadata": {},
   "outputs": [
    {
     "data": {
      "text/plain": [
       "DataFrame[Date: string, TotalCase: bigint]"
      ]
     },
     "execution_count": 15,
     "metadata": {},
     "output_type": "execute_result"
    }
   ],
   "source": [
    "total_case_by_date = df_coviddata_f.groupBy('Date').agg(F.sum('TotalCases').alias('TotalCase'))\n",
    "total_case_by_date"
   ]
  },
  {
   "cell_type": "code",
   "execution_count": 16,
   "id": "88d6edfb",
   "metadata": {},
   "outputs": [
    {
     "name": "stdout",
     "output_type": "stream",
     "text": [
      "+----------+---------+\n",
      "|      Date|TotalCase|\n",
      "+----------+---------+\n",
      "|06-08-2020|  1974697|\n",
      "+----------+---------+\n",
      "\n"
     ]
    }
   ],
   "source": [
    "max_covid_case = total_case_by_date.orderBy(F.col('TotalCase').desc()).limit(1)\n",
    "max_covid_case.show()"
   ]
  },
  {
   "cell_type": "markdown",
   "id": "bc52505b",
   "metadata": {},
   "source": [
    "State that has second largest covid test cases"
   ]
  },
  {
   "cell_type": "code",
   "execution_count": 17,
   "id": "5f5725e1",
   "metadata": {},
   "outputs": [
    {
     "name": "stdout",
     "output_type": "stream",
     "text": [
      "+----------------------------------------+---------+\n",
      "|Name of State / UT                      |TotalCase|\n",
      "+----------------------------------------+---------+\n",
      "|Nagaland                                |46816    |\n",
      "|Karnataka                               |2810670  |\n",
      "|Odisha                                  |845046   |\n",
      "|Kerala                                  |608375   |\n",
      "|Ladakh                                  |57628    |\n",
      "|Dadra and Nagar Haveli and Daman and Diu|26614    |\n",
      "|Tamil Nadu                              |7905727  |\n",
      "|Telengana                               |105585   |\n",
      "|Chhattisgarh                            |259124   |\n",
      "|Andhra Pradesh                          |2824160  |\n",
      "|Madhya Pradesh                          |1301151  |\n",
      "|Punjab                                  |546880   |\n",
      "|Manipur                                 |85231    |\n",
      "|Goa                                     |152932   |\n",
      "|Mizoram                                 |13585    |\n",
      "|Himachal Pradesh                        |81701    |\n",
      "|Puducherry                              |84731    |\n",
      "|Haryana                                 |1168172  |\n",
      "|Jammu and Kashmir                       |693130   |\n",
      "|Jharkhand                               |291902   |\n",
      "+----------------------------------------+---------+\n",
      "only showing top 20 rows\n",
      "\n"
     ]
    }
   ],
   "source": [
    "total_case_by_state = df_coviddata_f.groupBy('Name of State / UT').agg(F.sum('TotalCases').alias('TotalCase'))\n",
    "total_case_by_state.show(truncate=False)"
   ]
  },
  {
   "cell_type": "code",
   "execution_count": 18,
   "id": "188a109b",
   "metadata": {},
   "outputs": [],
   "source": [
    "window_spec = Window.orderBy(F.col('TotalCase').desc())\n",
    "ranked_covid_cases = total_case_by_state.withColumn('rank', F.row_number().over(window_spec))\n",
    "second_largest_df = ranked_covid_cases.filter(F.col('rank') == 2)"
   ]
  },
  {
   "cell_type": "code",
   "execution_count": 19,
   "id": "f4db6de3",
   "metadata": {},
   "outputs": [
    {
     "name": "stdout",
     "output_type": "stream",
     "text": [
      "+------------------+---------+\n",
      "|Name of State / UT|TotalCase|\n",
      "+------------------+---------+\n",
      "|        Tamil Nadu|  7905727|\n",
      "+------------------+---------+\n",
      "\n"
     ]
    }
   ],
   "source": [
    "second_largest_df.drop('rank').show()"
   ]
  },
  {
   "cell_type": "markdown",
   "id": "b718b94f",
   "metadata": {},
   "source": [
    "Which union teritory has least number of deaths"
   ]
  },
  {
   "cell_type": "code",
   "execution_count": 20,
   "id": "785b6ba4",
   "metadata": {},
   "outputs": [
    {
     "name": "stdout",
     "output_type": "stream",
     "text": [
      "+----------+--------------------+---------------------+-----+-------------------------+---------+----------+-------------+----------+\n",
      "|      Date|  Name of State / UT|Total Confirmed cases|Death|Cured/Discharged/Migrated|New cases|New deaths|New recovered|TotalCases|\n",
      "+----------+--------------------+---------------------+-----+-------------------------+---------+----------+-------------+----------+\n",
      "|07-03-2020|Union Territory o...|                    2|    0|                        0|        0|         0|            0|         2|\n",
      "|08-03-2020|Union Territory o...|                    2|    0|                        0|        0|         0|            0|         2|\n",
      "|09-03-2020|Union Territory o...|                    1|    0|                        0|        0|         0|            0|         1|\n",
      "|09-03-2020|Union Territory o...|                    2|    0|                        0|        0|         0|            0|         2|\n",
      "|10-03-2020|Union Territory o...|                    1|    0|                        0|        0|         0|            0|         1|\n",
      "|10-03-2020|Union Territory o...|                    2|    0|                        0|        0|         0|            0|         2|\n",
      "|11-03-2020|Union Territory o...|                    1|    0|                        0|        0|         0|            0|         1|\n",
      "|11-03-2020|Union Territory o...|                    2|    0|                        0|        0|         0|            0|         2|\n",
      "|12-03-2020|Union Territory o...|                    1|    0|                        0|        0|         0|            0|         1|\n",
      "|12-03-2020|Union Territory o...|                    3|    0|                        0|        1|         0|            0|         4|\n",
      "|13-03-2020|Union Territory o...|                    1|    0|                        0|        0|         0|            0|         1|\n",
      "|13-03-2020|Union Territory o...|                    3|    0|                        0|        0|         0|            0|         3|\n",
      "|14-03-2020|Union Territory o...|                    2|    0|                        0|        1|         0|            0|         3|\n",
      "|14-03-2020|Union Territory o...|                    3|    0|                        0|        0|         0|            0|         3|\n",
      "|15-03-2020|Union Territory o...|                    2|    0|                        0|        0|         0|            0|         2|\n",
      "|15-03-2020|Union Territory o...|                    3|    0|                        0|        0|         0|            0|         3|\n",
      "|16-03-2020|Union Territory o...|                    3|    0|                        0|        1|         0|            0|         4|\n",
      "|16-03-2020|Union Territory o...|                    4|    0|                        0|        1|         0|            0|         5|\n",
      "|17-03-2020|Union Territory o...|                    3|    0|                        0|        0|         0|            0|         3|\n",
      "|17-03-2020|Union Territory o...|                    6|    0|                        0|        2|         0|            0|         8|\n",
      "+----------+--------------------+---------------------+-----+-------------------------+---------+----------+-------------+----------+\n",
      "only showing top 20 rows\n",
      "\n"
     ]
    }
   ],
   "source": [
    "ut_df = df_coviddata_f.filter(F.col('Name of State / UT').like('Union Territory of%'))\n",
    "ut_df.show()"
   ]
  },
  {
   "cell_type": "code",
   "execution_count": 21,
   "id": "0a0ad7fe",
   "metadata": {},
   "outputs": [
    {
     "name": "stdout",
     "output_type": "stream",
     "text": [
      "+----------+--------------------+---------------------+-----+-------------------------+---------+----------+-------------+----------+-----------+\n",
      "|      Date|  Name of State / UT|Total Confirmed cases|Death|Cured/Discharged/Migrated|New cases|New deaths|New recovered|TotalCases|TotalDeaths|\n",
      "+----------+--------------------+---------------------+-----+-------------------------+---------+----------+-------------+----------+-----------+\n",
      "|07-03-2020|Union Territory o...|                    2|    0|                        0|        0|         0|            0|         2|          0|\n",
      "|08-03-2020|Union Territory o...|                    2|    0|                        0|        0|         0|            0|         2|          0|\n",
      "|09-03-2020|Union Territory o...|                    1|    0|                        0|        0|         0|            0|         1|          0|\n",
      "|09-03-2020|Union Territory o...|                    2|    0|                        0|        0|         0|            0|         2|          0|\n",
      "|10-03-2020|Union Territory o...|                    1|    0|                        0|        0|         0|            0|         1|          0|\n",
      "|10-03-2020|Union Territory o...|                    2|    0|                        0|        0|         0|            0|         2|          0|\n",
      "|11-03-2020|Union Territory o...|                    1|    0|                        0|        0|         0|            0|         1|          0|\n",
      "|11-03-2020|Union Territory o...|                    2|    0|                        0|        0|         0|            0|         2|          0|\n",
      "|12-03-2020|Union Territory o...|                    1|    0|                        0|        0|         0|            0|         1|          0|\n",
      "|12-03-2020|Union Territory o...|                    3|    0|                        0|        1|         0|            0|         4|          0|\n",
      "|13-03-2020|Union Territory o...|                    1|    0|                        0|        0|         0|            0|         1|          0|\n",
      "|13-03-2020|Union Territory o...|                    3|    0|                        0|        0|         0|            0|         3|          0|\n",
      "|14-03-2020|Union Territory o...|                    2|    0|                        0|        1|         0|            0|         3|          0|\n",
      "|14-03-2020|Union Territory o...|                    3|    0|                        0|        0|         0|            0|         3|          0|\n",
      "|15-03-2020|Union Territory o...|                    2|    0|                        0|        0|         0|            0|         2|          0|\n",
      "|15-03-2020|Union Territory o...|                    3|    0|                        0|        0|         0|            0|         3|          0|\n",
      "|16-03-2020|Union Territory o...|                    3|    0|                        0|        1|         0|            0|         4|          0|\n",
      "|16-03-2020|Union Territory o...|                    4|    0|                        0|        1|         0|            0|         5|          0|\n",
      "|17-03-2020|Union Territory o...|                    3|    0|                        0|        0|         0|            0|         3|          0|\n",
      "|17-03-2020|Union Territory o...|                    6|    0|                        0|        2|         0|            0|         8|          0|\n",
      "+----------+--------------------+---------------------+-----+-------------------------+---------+----------+-------------+----------+-----------+\n",
      "only showing top 20 rows\n",
      "\n"
     ]
    }
   ],
   "source": [
    "ut_df = ut_df.withColumn(\"TotalDeaths\", F.col('Death')+F.col('New deaths'))\n",
    "ut_df.show()"
   ]
  },
  {
   "cell_type": "code",
   "execution_count": 22,
   "id": "ee715c4a",
   "metadata": {},
   "outputs": [
    {
     "name": "stdout",
     "output_type": "stream",
     "text": [
      "+------------------------------------+-----------+\n",
      "|Name of State / UT                  |TotalDeaths|\n",
      "+------------------------------------+-----------+\n",
      "|Union Territory of Jammu and Kashmir|0          |\n",
      "+------------------------------------+-----------+\n",
      "\n"
     ]
    }
   ],
   "source": [
    "ut_covid_death_cases = ut_df.groupBy('Name of State / UT').agg(F.sum('TotalDeaths').alias('TotalDeaths'))\n",
    "ut_with_least_death = ut_covid_death_cases.orderBy(F.col('TotalDeaths')).limit(1)\n",
    "ut_with_least_death.show(truncate=False)"
   ]
  },
  {
   "cell_type": "markdown",
   "id": "b9ed14e1",
   "metadata": {},
   "source": [
    "State with lowest death to confirmed case ratio"
   ]
  },
  {
   "cell_type": "code",
   "execution_count": 23,
   "id": "71956d8a",
   "metadata": {},
   "outputs": [
    {
     "name": "stdout",
     "output_type": "stream",
     "text": [
      "+----------+------------------+---------------------+-----+-------------------------+---------+----------+-------------+----------+-----------+\n",
      "|      Date|Name of State / UT|Total Confirmed cases|Death|Cured/Discharged/Migrated|New cases|New deaths|New recovered|TotalCases|TotalDeaths|\n",
      "+----------+------------------+---------------------+-----+-------------------------+---------+----------+-------------+----------+-----------+\n",
      "|30-01-2020|            Kerala|                    1|    0|                        0|        0|         0|            0|         1|          0|\n",
      "|31-01-2020|            Kerala|                    1|    0|                        0|        0|         0|            0|         1|          0|\n",
      "|01-02-2020|            Kerala|                    2|    0|                        0|        1|         0|            0|         3|          0|\n",
      "|02-02-2020|            Kerala|                    3|    0|                        0|        1|         0|            0|         4|          0|\n",
      "|03-02-2020|            Kerala|                    3|    0|                        0|        0|         0|            0|         3|          0|\n",
      "|04-02-2020|            Kerala|                    3|    0|                        0|        0|         0|            0|         3|          0|\n",
      "|05-02-2020|            Kerala|                    3|    0|                        0|        0|         0|            0|         3|          0|\n",
      "|06-02-2020|            Kerala|                    3|    0|                        0|        0|         0|            0|         3|          0|\n",
      "|07-02-2020|            Kerala|                    3|    0|                        0|        0|         0|            0|         3|          0|\n",
      "|08-02-2020|            Kerala|                    3|    0|                        0|        0|         0|            0|         3|          0|\n",
      "|09-02-2020|            Kerala|                    3|    0|                        0|        0|         0|            0|         3|          0|\n",
      "|10-02-2020|            Kerala|                    3|    0|                        0|        0|         0|            0|         3|          0|\n",
      "|11-02-2020|            Kerala|                    3|    0|                        0|        0|         0|            0|         3|          0|\n",
      "|12-02-2020|            Kerala|                    3|    0|                        0|        0|         0|            0|         3|          0|\n",
      "|13-02-2020|            Kerala|                    3|    0|                        0|        0|         0|            0|         3|          0|\n",
      "|14-02-2020|            Kerala|                    3|    0|                        0|        0|         0|            0|         3|          0|\n",
      "|15-02-2020|            Kerala|                    3|    0|                        0|        0|         0|            0|         3|          0|\n",
      "|16-02-2020|            Kerala|                    3|    0|                        0|        0|         0|            0|         3|          0|\n",
      "|17-02-2020|            Kerala|                    3|    0|                        0|        0|         0|            0|         3|          0|\n",
      "|18-02-2020|            Kerala|                    3|    0|                        0|        0|         0|            0|         3|          0|\n",
      "+----------+------------------+---------------------+-----+-------------------------+---------+----------+-------------+----------+-----------+\n",
      "only showing top 20 rows\n",
      "\n"
     ]
    }
   ],
   "source": [
    "df_coviddata_f = df_coviddata_f.withColumn(\"TotalDeaths\", F.col('Death')+F.col('New deaths'))\n",
    "df_coviddata_f.show()"
   ]
  },
  {
   "cell_type": "code",
   "execution_count": 24,
   "id": "b9dbbac8",
   "metadata": {},
   "outputs": [
    {
     "name": "stdout",
     "output_type": "stream",
     "text": [
      "+----------+------------------+---------------------+-----+-------------------------+---------+----------+-------------+----------+-----------+-------------------------+\n",
      "|      Date|Name of State / UT|Total Confirmed cases|Death|Cured/Discharged/Migrated|New cases|New deaths|New recovered|TotalCases|TotalDeaths|DeathToConfirmedCaseRatio|\n",
      "+----------+------------------+---------------------+-----+-------------------------+---------+----------+-------------+----------+-----------+-------------------------+\n",
      "|30-01-2020|            Kerala|                    1|    0|                        0|        0|         0|            0|         1|          0|                      0.0|\n",
      "|31-01-2020|            Kerala|                    1|    0|                        0|        0|         0|            0|         1|          0|                      0.0|\n",
      "|01-02-2020|            Kerala|                    2|    0|                        0|        1|         0|            0|         3|          0|                      0.0|\n",
      "|02-02-2020|            Kerala|                    3|    0|                        0|        1|         0|            0|         4|          0|                      0.0|\n",
      "|03-02-2020|            Kerala|                    3|    0|                        0|        0|         0|            0|         3|          0|                      0.0|\n",
      "|04-02-2020|            Kerala|                    3|    0|                        0|        0|         0|            0|         3|          0|                      0.0|\n",
      "|05-02-2020|            Kerala|                    3|    0|                        0|        0|         0|            0|         3|          0|                      0.0|\n",
      "|06-02-2020|            Kerala|                    3|    0|                        0|        0|         0|            0|         3|          0|                      0.0|\n",
      "|07-02-2020|            Kerala|                    3|    0|                        0|        0|         0|            0|         3|          0|                      0.0|\n",
      "|08-02-2020|            Kerala|                    3|    0|                        0|        0|         0|            0|         3|          0|                      0.0|\n",
      "|09-02-2020|            Kerala|                    3|    0|                        0|        0|         0|            0|         3|          0|                      0.0|\n",
      "|10-02-2020|            Kerala|                    3|    0|                        0|        0|         0|            0|         3|          0|                      0.0|\n",
      "|11-02-2020|            Kerala|                    3|    0|                        0|        0|         0|            0|         3|          0|                      0.0|\n",
      "|12-02-2020|            Kerala|                    3|    0|                        0|        0|         0|            0|         3|          0|                      0.0|\n",
      "|13-02-2020|            Kerala|                    3|    0|                        0|        0|         0|            0|         3|          0|                      0.0|\n",
      "|14-02-2020|            Kerala|                    3|    0|                        0|        0|         0|            0|         3|          0|                      0.0|\n",
      "|15-02-2020|            Kerala|                    3|    0|                        0|        0|         0|            0|         3|          0|                      0.0|\n",
      "|16-02-2020|            Kerala|                    3|    0|                        0|        0|         0|            0|         3|          0|                      0.0|\n",
      "|17-02-2020|            Kerala|                    3|    0|                        0|        0|         0|            0|         3|          0|                      0.0|\n",
      "|18-02-2020|            Kerala|                    3|    0|                        0|        0|         0|            0|         3|          0|                      0.0|\n",
      "+----------+------------------+---------------------+-----+-------------------------+---------+----------+-------------+----------+-----------+-------------------------+\n",
      "only showing top 20 rows\n",
      "\n"
     ]
    }
   ],
   "source": [
    "df_coviddata_f = df_coviddata_f.withColumn(\"DeathToConfirmedCaseRatio\", F.col('TotalDeaths')/F.col('TotalCases'))\n",
    "df_coviddata_f.show()"
   ]
  },
  {
   "cell_type": "code",
   "execution_count": 25,
   "id": "b65adfd1",
   "metadata": {},
   "outputs": [
    {
     "name": "stdout",
     "output_type": "stream",
     "text": [
      "+------------------+-----+\n",
      "|Name of State / UT|Ratio|\n",
      "+------------------+-----+\n",
      "|           Mizoram|  0.0|\n",
      "+------------------+-----+\n",
      "\n"
     ]
    }
   ],
   "source": [
    "state_lowest_deathToConfirmedCase_ratio = df_coviddata_f.groupBy('Name of State / UT').agg(F.avg('DeathToConfirmedCaseRatio').alias('Ratio'))\n",
    "lowest_ratio_df = state_lowest_deathToConfirmedCase_ratio.orderBy(F.col('Ratio')).limit(1)\n",
    "lowest_ratio_df.show()"
   ]
  },
  {
   "cell_type": "code",
   "execution_count": 26,
   "id": "fc3812fd",
   "metadata": {},
   "outputs": [],
   "source": [
    "import calendar\n",
    "from datetime import datetime\n",
    "\n",
    "\n",
    "def get_month_num(date):\n",
    "    return datetime.strptime(date, \"%d-%m-%Y\").month\n",
    "\n",
    "def get_month_name(month_num):\n",
    "    return calendar.month_name[int(month_num)]\n",
    "\n",
    "get_month_num_udf = F.udf(lambda d : get_month_num(d), types.StringType())\n",
    "get_month_name_udf = F.udf(lambda m : get_month_name(m), types.StringType())"
   ]
  },
  {
   "cell_type": "code",
   "execution_count": 27,
   "id": "fbe9c7f4",
   "metadata": {},
   "outputs": [],
   "source": [
    "df_coviddata_f = df_coviddata_f.withColumn(\"month\", get_month_num_udf(F.col('Date')))"
   ]
  },
  {
   "cell_type": "code",
   "execution_count": 28,
   "id": "9ef0193a",
   "metadata": {},
   "outputs": [
    {
     "name": "stdout",
     "output_type": "stream",
     "text": [
      "root\n",
      " |-- Date: string (nullable = true)\n",
      " |-- Name of State / UT: string (nullable = true)\n",
      " |-- Total Confirmed cases: integer (nullable = true)\n",
      " |-- Death: integer (nullable = true)\n",
      " |-- Cured/Discharged/Migrated: integer (nullable = true)\n",
      " |-- New cases: integer (nullable = true)\n",
      " |-- New deaths: integer (nullable = true)\n",
      " |-- New recovered: integer (nullable = true)\n",
      " |-- TotalCases: integer (nullable = true)\n",
      " |-- TotalDeaths: integer (nullable = true)\n",
      " |-- DeathToConfirmedCaseRatio: double (nullable = true)\n",
      " |-- month: string (nullable = true)\n",
      "\n"
     ]
    }
   ],
   "source": [
    "df_coviddata_f.printSchema()"
   ]
  },
  {
   "cell_type": "code",
   "execution_count": 29,
   "id": "e6963642",
   "metadata": {},
   "outputs": [
    {
     "ename": "Py4JJavaError",
     "evalue": "An error occurred while calling o184.collectToPython.\n: org.apache.spark.SparkException: Job aborted due to stage failure: Task 0 in stage 25.0 failed 1 times, most recent failure: Lost task 0.0 in stage 25.0 (TID 19) (853CBX3 executor driver): org.apache.spark.SparkException: Python worker failed to connect back.\r\n\tat org.apache.spark.api.python.PythonWorkerFactory.createSimpleWorker(PythonWorkerFactory.scala:203)\r\n\tat org.apache.spark.api.python.PythonWorkerFactory.create(PythonWorkerFactory.scala:109)\r\n\tat org.apache.spark.SparkEnv.createPythonWorker(SparkEnv.scala:124)\r\n\tat org.apache.spark.api.python.BasePythonRunner.compute(PythonRunner.scala:174)\r\n\tat org.apache.spark.sql.execution.python.BatchEvalPythonExec.evaluate(BatchEvalPythonExec.scala:54)\r\n\tat org.apache.spark.sql.execution.python.EvalPythonExec.$anonfun$doExecute$2(EvalPythonExec.scala:131)\r\n\tat org.apache.spark.rdd.RDD.$anonfun$mapPartitions$2(RDD.scala:858)\r\n\tat org.apache.spark.rdd.RDD.$anonfun$mapPartitions$2$adapted(RDD.scala:858)\r\n\tat org.apache.spark.rdd.MapPartitionsRDD.compute(MapPartitionsRDD.scala:52)\r\n\tat org.apache.spark.rdd.RDD.computeOrReadCheckpoint(RDD.scala:367)\r\n\tat org.apache.spark.rdd.RDD.iterator(RDD.scala:331)\r\n\tat org.apache.spark.rdd.MapPartitionsRDD.compute(MapPartitionsRDD.scala:52)\r\n\tat org.apache.spark.rdd.RDD.computeOrReadCheckpoint(RDD.scala:367)\r\n\tat org.apache.spark.rdd.RDD.iterator(RDD.scala:331)\r\n\tat org.apache.spark.rdd.MapPartitionsRDD.compute(MapPartitionsRDD.scala:52)\r\n\tat org.apache.spark.rdd.RDD.computeOrReadCheckpoint(RDD.scala:367)\r\n\tat org.apache.spark.rdd.RDD.iterator(RDD.scala:331)\r\n\tat org.apache.spark.scheduler.ResultTask.runTask(ResultTask.scala:93)\r\n\tat org.apache.spark.TaskContext.runTaskWithListeners(TaskContext.scala:166)\r\n\tat org.apache.spark.scheduler.Task.run(Task.scala:141)\r\n\tat org.apache.spark.executor.Executor$TaskRunner.$anonfun$run$4(Executor.scala:620)\r\n\tat org.apache.spark.util.SparkErrorUtils.tryWithSafeFinally(SparkErrorUtils.scala:64)\r\n\tat org.apache.spark.util.SparkErrorUtils.tryWithSafeFinally$(SparkErrorUtils.scala:61)\r\n\tat org.apache.spark.util.Utils$.tryWithSafeFinally(Utils.scala:94)\r\n\tat org.apache.spark.executor.Executor$TaskRunner.run(Executor.scala:623)\r\n\tat java.base/java.util.concurrent.ThreadPoolExecutor.runWorker(ThreadPoolExecutor.java:1144)\r\n\tat java.base/java.util.concurrent.ThreadPoolExecutor$Worker.run(ThreadPoolExecutor.java:642)\r\n\tat java.base/java.lang.Thread.run(Thread.java:1570)\r\nCaused by: java.net.SocketTimeoutException: Accept timed out\r\n\tat java.base/sun.nio.ch.NioSocketImpl.timedAccept(NioSocketImpl.java:701)\r\n\tat java.base/sun.nio.ch.NioSocketImpl.accept(NioSocketImpl.java:745)\r\n\tat java.base/java.net.ServerSocket.implAccept(ServerSocket.java:695)\r\n\tat java.base/java.net.ServerSocket.platformImplAccept(ServerSocket.java:660)\r\n\tat java.base/java.net.ServerSocket.implAccept(ServerSocket.java:636)\r\n\tat java.base/java.net.ServerSocket.implAccept(ServerSocket.java:582)\r\n\tat java.base/java.net.ServerSocket.accept(ServerSocket.java:541)\r\n\tat org.apache.spark.api.python.PythonWorkerFactory.createSimpleWorker(PythonWorkerFactory.scala:190)\r\n\t... 27 more\r\n\nDriver stacktrace:\r\n\tat org.apache.spark.scheduler.DAGScheduler.failJobAndIndependentStages(DAGScheduler.scala:2856)\r\n\tat org.apache.spark.scheduler.DAGScheduler.$anonfun$abortStage$2(DAGScheduler.scala:2792)\r\n\tat org.apache.spark.scheduler.DAGScheduler.$anonfun$abortStage$2$adapted(DAGScheduler.scala:2791)\r\n\tat scala.collection.mutable.ResizableArray.foreach(ResizableArray.scala:62)\r\n\tat scala.collection.mutable.ResizableArray.foreach$(ResizableArray.scala:55)\r\n\tat scala.collection.mutable.ArrayBuffer.foreach(ArrayBuffer.scala:49)\r\n\tat org.apache.spark.scheduler.DAGScheduler.abortStage(DAGScheduler.scala:2791)\r\n\tat org.apache.spark.scheduler.DAGScheduler.$anonfun$handleTaskSetFailed$1(DAGScheduler.scala:1247)\r\n\tat org.apache.spark.scheduler.DAGScheduler.$anonfun$handleTaskSetFailed$1$adapted(DAGScheduler.scala:1247)\r\n\tat scala.Option.foreach(Option.scala:407)\r\n\tat org.apache.spark.scheduler.DAGScheduler.handleTaskSetFailed(DAGScheduler.scala:1247)\r\n\tat org.apache.spark.scheduler.DAGSchedulerEventProcessLoop.doOnReceive(DAGScheduler.scala:3060)\r\n\tat org.apache.spark.scheduler.DAGSchedulerEventProcessLoop.onReceive(DAGScheduler.scala:2994)\r\n\tat org.apache.spark.scheduler.DAGSchedulerEventProcessLoop.onReceive(DAGScheduler.scala:2983)\r\n\tat org.apache.spark.util.EventLoop$$anon$1.run(EventLoop.scala:49)\r\n\tat org.apache.spark.scheduler.DAGScheduler.runJob(DAGScheduler.scala:989)\r\n\tat org.apache.spark.SparkContext.runJob(SparkContext.scala:2393)\r\n\tat org.apache.spark.SparkContext.runJob(SparkContext.scala:2414)\r\n\tat org.apache.spark.SparkContext.runJob(SparkContext.scala:2433)\r\n\tat org.apache.spark.sql.execution.SparkPlan.executeTake(SparkPlan.scala:530)\r\n\tat org.apache.spark.sql.execution.SparkPlan.executeTake(SparkPlan.scala:483)\r\n\tat org.apache.spark.sql.execution.CollectLimitExec.executeCollect(limit.scala:61)\r\n\tat org.apache.spark.sql.Dataset.$anonfun$collectToPython$1(Dataset.scala:4150)\r\n\tat org.apache.spark.sql.Dataset.$anonfun$withAction$2(Dataset.scala:4324)\r\n\tat org.apache.spark.sql.execution.QueryExecution$.withInternalError(QueryExecution.scala:546)\r\n\tat org.apache.spark.sql.Dataset.$anonfun$withAction$1(Dataset.scala:4322)\r\n\tat org.apache.spark.sql.execution.SQLExecution$.$anonfun$withNewExecutionId$6(SQLExecution.scala:125)\r\n\tat org.apache.spark.sql.execution.SQLExecution$.withSQLConfPropagated(SQLExecution.scala:201)\r\n\tat org.apache.spark.sql.execution.SQLExecution$.$anonfun$withNewExecutionId$1(SQLExecution.scala:108)\r\n\tat org.apache.spark.sql.SparkSession.withActive(SparkSession.scala:900)\r\n\tat org.apache.spark.sql.execution.SQLExecution$.withNewExecutionId(SQLExecution.scala:66)\r\n\tat org.apache.spark.sql.Dataset.withAction(Dataset.scala:4322)\r\n\tat org.apache.spark.sql.Dataset.collectToPython(Dataset.scala:4147)\r\n\tat java.base/jdk.internal.reflect.DirectMethodHandleAccessor.invoke(DirectMethodHandleAccessor.java:103)\r\n\tat java.base/java.lang.reflect.Method.invoke(Method.java:580)\r\n\tat py4j.reflection.MethodInvoker.invoke(MethodInvoker.java:244)\r\n\tat py4j.reflection.ReflectionEngine.invoke(ReflectionEngine.java:374)\r\n\tat py4j.Gateway.invoke(Gateway.java:282)\r\n\tat py4j.commands.AbstractCommand.invokeMethod(AbstractCommand.java:132)\r\n\tat py4j.commands.CallCommand.execute(CallCommand.java:79)\r\n\tat py4j.ClientServerConnection.waitForCommands(ClientServerConnection.java:182)\r\n\tat py4j.ClientServerConnection.run(ClientServerConnection.java:106)\r\n\tat java.base/java.lang.Thread.run(Thread.java:1570)\r\nCaused by: org.apache.spark.SparkException: Python worker failed to connect back.\r\n\tat org.apache.spark.api.python.PythonWorkerFactory.createSimpleWorker(PythonWorkerFactory.scala:203)\r\n\tat org.apache.spark.api.python.PythonWorkerFactory.create(PythonWorkerFactory.scala:109)\r\n\tat org.apache.spark.SparkEnv.createPythonWorker(SparkEnv.scala:124)\r\n\tat org.apache.spark.api.python.BasePythonRunner.compute(PythonRunner.scala:174)\r\n\tat org.apache.spark.sql.execution.python.BatchEvalPythonExec.evaluate(BatchEvalPythonExec.scala:54)\r\n\tat org.apache.spark.sql.execution.python.EvalPythonExec.$anonfun$doExecute$2(EvalPythonExec.scala:131)\r\n\tat org.apache.spark.rdd.RDD.$anonfun$mapPartitions$2(RDD.scala:858)\r\n\tat org.apache.spark.rdd.RDD.$anonfun$mapPartitions$2$adapted(RDD.scala:858)\r\n\tat org.apache.spark.rdd.MapPartitionsRDD.compute(MapPartitionsRDD.scala:52)\r\n\tat org.apache.spark.rdd.RDD.computeOrReadCheckpoint(RDD.scala:367)\r\n\tat org.apache.spark.rdd.RDD.iterator(RDD.scala:331)\r\n\tat org.apache.spark.rdd.MapPartitionsRDD.compute(MapPartitionsRDD.scala:52)\r\n\tat org.apache.spark.rdd.RDD.computeOrReadCheckpoint(RDD.scala:367)\r\n\tat org.apache.spark.rdd.RDD.iterator(RDD.scala:331)\r\n\tat org.apache.spark.rdd.MapPartitionsRDD.compute(MapPartitionsRDD.scala:52)\r\n\tat org.apache.spark.rdd.RDD.computeOrReadCheckpoint(RDD.scala:367)\r\n\tat org.apache.spark.rdd.RDD.iterator(RDD.scala:331)\r\n\tat org.apache.spark.scheduler.ResultTask.runTask(ResultTask.scala:93)\r\n\tat org.apache.spark.TaskContext.runTaskWithListeners(TaskContext.scala:166)\r\n\tat org.apache.spark.scheduler.Task.run(Task.scala:141)\r\n\tat org.apache.spark.executor.Executor$TaskRunner.$anonfun$run$4(Executor.scala:620)\r\n\tat org.apache.spark.util.SparkErrorUtils.tryWithSafeFinally(SparkErrorUtils.scala:64)\r\n\tat org.apache.spark.util.SparkErrorUtils.tryWithSafeFinally$(SparkErrorUtils.scala:61)\r\n\tat org.apache.spark.util.Utils$.tryWithSafeFinally(Utils.scala:94)\r\n\tat org.apache.spark.executor.Executor$TaskRunner.run(Executor.scala:623)\r\n\tat java.base/java.util.concurrent.ThreadPoolExecutor.runWorker(ThreadPoolExecutor.java:1144)\r\n\tat java.base/java.util.concurrent.ThreadPoolExecutor$Worker.run(ThreadPoolExecutor.java:642)\r\n\t... 1 more\r\nCaused by: java.net.SocketTimeoutException: Accept timed out\r\n\tat java.base/sun.nio.ch.NioSocketImpl.timedAccept(NioSocketImpl.java:701)\r\n\tat java.base/sun.nio.ch.NioSocketImpl.accept(NioSocketImpl.java:745)\r\n\tat java.base/java.net.ServerSocket.implAccept(ServerSocket.java:695)\r\n\tat java.base/java.net.ServerSocket.platformImplAccept(ServerSocket.java:660)\r\n\tat java.base/java.net.ServerSocket.implAccept(ServerSocket.java:636)\r\n\tat java.base/java.net.ServerSocket.implAccept(ServerSocket.java:582)\r\n\tat java.base/java.net.ServerSocket.accept(ServerSocket.java:541)\r\n\tat org.apache.spark.api.python.PythonWorkerFactory.createSimpleWorker(PythonWorkerFactory.scala:190)\r\n\t... 27 more\r\n",
     "output_type": "error",
     "traceback": [
      "\u001b[1;31m---------------------------------------------------------------------------\u001b[0m",
      "\u001b[1;31mPy4JJavaError\u001b[0m                             Traceback (most recent call last)",
      "Cell \u001b[1;32mIn[29], line 1\u001b[0m\n\u001b[1;32m----> 1\u001b[0m \u001b[43mdf_coviddata_f\u001b[49m\u001b[38;5;241;43m.\u001b[39;49m\u001b[43mhead\u001b[49m\u001b[43m(\u001b[49m\u001b[38;5;241;43m4\u001b[39;49m\u001b[43m)\u001b[49m\n",
      "File \u001b[1;32m~\\AppData\\Roaming\\Python\\Python312\\site-packages\\pyspark\\sql\\dataframe.py:2975\u001b[0m, in \u001b[0;36mDataFrame.head\u001b[1;34m(self, n)\u001b[0m\n\u001b[0;32m   2973\u001b[0m     rs \u001b[38;5;241m=\u001b[39m \u001b[38;5;28mself\u001b[39m\u001b[38;5;241m.\u001b[39mhead(\u001b[38;5;241m1\u001b[39m)\n\u001b[0;32m   2974\u001b[0m     \u001b[38;5;28;01mreturn\u001b[39;00m rs[\u001b[38;5;241m0\u001b[39m] \u001b[38;5;28;01mif\u001b[39;00m rs \u001b[38;5;28;01melse\u001b[39;00m \u001b[38;5;28;01mNone\u001b[39;00m\n\u001b[1;32m-> 2975\u001b[0m \u001b[38;5;28;01mreturn\u001b[39;00m \u001b[38;5;28;43mself\u001b[39;49m\u001b[38;5;241;43m.\u001b[39;49m\u001b[43mtake\u001b[49m\u001b[43m(\u001b[49m\u001b[43mn\u001b[49m\u001b[43m)\u001b[49m\n",
      "File \u001b[1;32m~\\AppData\\Roaming\\Python\\Python312\\site-packages\\pyspark\\sql\\dataframe.py:1407\u001b[0m, in \u001b[0;36mDataFrame.take\u001b[1;34m(self, num)\u001b[0m\n\u001b[0;32m   1378\u001b[0m \u001b[38;5;28;01mdef\u001b[39;00m \u001b[38;5;21mtake\u001b[39m(\u001b[38;5;28mself\u001b[39m, num: \u001b[38;5;28mint\u001b[39m) \u001b[38;5;241m-\u001b[39m\u001b[38;5;241m>\u001b[39m List[Row]:\n\u001b[0;32m   1379\u001b[0m \u001b[38;5;250m    \u001b[39m\u001b[38;5;124;03m\"\"\"Returns the first ``num`` rows as a :class:`list` of :class:`Row`.\u001b[39;00m\n\u001b[0;32m   1380\u001b[0m \n\u001b[0;32m   1381\u001b[0m \u001b[38;5;124;03m    .. versionadded:: 1.3.0\u001b[39;00m\n\u001b[1;32m   (...)\u001b[0m\n\u001b[0;32m   1405\u001b[0m \u001b[38;5;124;03m    [Row(age=14, name='Tom'), Row(age=23, name='Alice')]\u001b[39;00m\n\u001b[0;32m   1406\u001b[0m \u001b[38;5;124;03m    \"\"\"\u001b[39;00m\n\u001b[1;32m-> 1407\u001b[0m     \u001b[38;5;28;01mreturn\u001b[39;00m \u001b[38;5;28;43mself\u001b[39;49m\u001b[38;5;241;43m.\u001b[39;49m\u001b[43mlimit\u001b[49m\u001b[43m(\u001b[49m\u001b[43mnum\u001b[49m\u001b[43m)\u001b[49m\u001b[38;5;241;43m.\u001b[39;49m\u001b[43mcollect\u001b[49m\u001b[43m(\u001b[49m\u001b[43m)\u001b[49m\n",
      "File \u001b[1;32m~\\AppData\\Roaming\\Python\\Python312\\site-packages\\pyspark\\sql\\dataframe.py:1263\u001b[0m, in \u001b[0;36mDataFrame.collect\u001b[1;34m(self)\u001b[0m\n\u001b[0;32m   1243\u001b[0m \u001b[38;5;250m\u001b[39m\u001b[38;5;124;03m\"\"\"Returns all the records as a list of :class:`Row`.\u001b[39;00m\n\u001b[0;32m   1244\u001b[0m \n\u001b[0;32m   1245\u001b[0m \u001b[38;5;124;03m.. versionadded:: 1.3.0\u001b[39;00m\n\u001b[1;32m   (...)\u001b[0m\n\u001b[0;32m   1260\u001b[0m \u001b[38;5;124;03m[Row(age=14, name='Tom'), Row(age=23, name='Alice'), Row(age=16, name='Bob')]\u001b[39;00m\n\u001b[0;32m   1261\u001b[0m \u001b[38;5;124;03m\"\"\"\u001b[39;00m\n\u001b[0;32m   1262\u001b[0m \u001b[38;5;28;01mwith\u001b[39;00m SCCallSiteSync(\u001b[38;5;28mself\u001b[39m\u001b[38;5;241m.\u001b[39m_sc):\n\u001b[1;32m-> 1263\u001b[0m     sock_info \u001b[38;5;241m=\u001b[39m \u001b[38;5;28;43mself\u001b[39;49m\u001b[38;5;241;43m.\u001b[39;49m\u001b[43m_jdf\u001b[49m\u001b[38;5;241;43m.\u001b[39;49m\u001b[43mcollectToPython\u001b[49m\u001b[43m(\u001b[49m\u001b[43m)\u001b[49m\n\u001b[0;32m   1264\u001b[0m \u001b[38;5;28;01mreturn\u001b[39;00m \u001b[38;5;28mlist\u001b[39m(_load_from_socket(sock_info, BatchedSerializer(CPickleSerializer())))\n",
      "File \u001b[1;32m~\\AppData\\Roaming\\Python\\Python312\\site-packages\\py4j\\java_gateway.py:1322\u001b[0m, in \u001b[0;36mJavaMember.__call__\u001b[1;34m(self, *args)\u001b[0m\n\u001b[0;32m   1316\u001b[0m command \u001b[38;5;241m=\u001b[39m proto\u001b[38;5;241m.\u001b[39mCALL_COMMAND_NAME \u001b[38;5;241m+\u001b[39m\\\n\u001b[0;32m   1317\u001b[0m     \u001b[38;5;28mself\u001b[39m\u001b[38;5;241m.\u001b[39mcommand_header \u001b[38;5;241m+\u001b[39m\\\n\u001b[0;32m   1318\u001b[0m     args_command \u001b[38;5;241m+\u001b[39m\\\n\u001b[0;32m   1319\u001b[0m     proto\u001b[38;5;241m.\u001b[39mEND_COMMAND_PART\n\u001b[0;32m   1321\u001b[0m answer \u001b[38;5;241m=\u001b[39m \u001b[38;5;28mself\u001b[39m\u001b[38;5;241m.\u001b[39mgateway_client\u001b[38;5;241m.\u001b[39msend_command(command)\n\u001b[1;32m-> 1322\u001b[0m return_value \u001b[38;5;241m=\u001b[39m \u001b[43mget_return_value\u001b[49m\u001b[43m(\u001b[49m\n\u001b[0;32m   1323\u001b[0m \u001b[43m    \u001b[49m\u001b[43manswer\u001b[49m\u001b[43m,\u001b[49m\u001b[43m \u001b[49m\u001b[38;5;28;43mself\u001b[39;49m\u001b[38;5;241;43m.\u001b[39;49m\u001b[43mgateway_client\u001b[49m\u001b[43m,\u001b[49m\u001b[43m \u001b[49m\u001b[38;5;28;43mself\u001b[39;49m\u001b[38;5;241;43m.\u001b[39;49m\u001b[43mtarget_id\u001b[49m\u001b[43m,\u001b[49m\u001b[43m \u001b[49m\u001b[38;5;28;43mself\u001b[39;49m\u001b[38;5;241;43m.\u001b[39;49m\u001b[43mname\u001b[49m\u001b[43m)\u001b[49m\n\u001b[0;32m   1325\u001b[0m \u001b[38;5;28;01mfor\u001b[39;00m temp_arg \u001b[38;5;129;01min\u001b[39;00m temp_args:\n\u001b[0;32m   1326\u001b[0m     \u001b[38;5;28;01mif\u001b[39;00m \u001b[38;5;28mhasattr\u001b[39m(temp_arg, \u001b[38;5;124m\"\u001b[39m\u001b[38;5;124m_detach\u001b[39m\u001b[38;5;124m\"\u001b[39m):\n",
      "File \u001b[1;32m~\\AppData\\Roaming\\Python\\Python312\\site-packages\\pyspark\\errors\\exceptions\\captured.py:179\u001b[0m, in \u001b[0;36mcapture_sql_exception.<locals>.deco\u001b[1;34m(*a, **kw)\u001b[0m\n\u001b[0;32m    177\u001b[0m \u001b[38;5;28;01mdef\u001b[39;00m \u001b[38;5;21mdeco\u001b[39m(\u001b[38;5;241m*\u001b[39ma: Any, \u001b[38;5;241m*\u001b[39m\u001b[38;5;241m*\u001b[39mkw: Any) \u001b[38;5;241m-\u001b[39m\u001b[38;5;241m>\u001b[39m Any:\n\u001b[0;32m    178\u001b[0m     \u001b[38;5;28;01mtry\u001b[39;00m:\n\u001b[1;32m--> 179\u001b[0m         \u001b[38;5;28;01mreturn\u001b[39;00m \u001b[43mf\u001b[49m\u001b[43m(\u001b[49m\u001b[38;5;241;43m*\u001b[39;49m\u001b[43ma\u001b[49m\u001b[43m,\u001b[49m\u001b[43m \u001b[49m\u001b[38;5;241;43m*\u001b[39;49m\u001b[38;5;241;43m*\u001b[39;49m\u001b[43mkw\u001b[49m\u001b[43m)\u001b[49m\n\u001b[0;32m    180\u001b[0m     \u001b[38;5;28;01mexcept\u001b[39;00m Py4JJavaError \u001b[38;5;28;01mas\u001b[39;00m e:\n\u001b[0;32m    181\u001b[0m         converted \u001b[38;5;241m=\u001b[39m convert_exception(e\u001b[38;5;241m.\u001b[39mjava_exception)\n",
      "File \u001b[1;32m~\\AppData\\Roaming\\Python\\Python312\\site-packages\\py4j\\protocol.py:326\u001b[0m, in \u001b[0;36mget_return_value\u001b[1;34m(answer, gateway_client, target_id, name)\u001b[0m\n\u001b[0;32m    324\u001b[0m value \u001b[38;5;241m=\u001b[39m OUTPUT_CONVERTER[\u001b[38;5;28mtype\u001b[39m](answer[\u001b[38;5;241m2\u001b[39m:], gateway_client)\n\u001b[0;32m    325\u001b[0m \u001b[38;5;28;01mif\u001b[39;00m answer[\u001b[38;5;241m1\u001b[39m] \u001b[38;5;241m==\u001b[39m REFERENCE_TYPE:\n\u001b[1;32m--> 326\u001b[0m     \u001b[38;5;28;01mraise\u001b[39;00m Py4JJavaError(\n\u001b[0;32m    327\u001b[0m         \u001b[38;5;124m\"\u001b[39m\u001b[38;5;124mAn error occurred while calling \u001b[39m\u001b[38;5;132;01m{0}\u001b[39;00m\u001b[38;5;132;01m{1}\u001b[39;00m\u001b[38;5;132;01m{2}\u001b[39;00m\u001b[38;5;124m.\u001b[39m\u001b[38;5;130;01m\\n\u001b[39;00m\u001b[38;5;124m\"\u001b[39m\u001b[38;5;241m.\u001b[39m\n\u001b[0;32m    328\u001b[0m         \u001b[38;5;28mformat\u001b[39m(target_id, \u001b[38;5;124m\"\u001b[39m\u001b[38;5;124m.\u001b[39m\u001b[38;5;124m\"\u001b[39m, name), value)\n\u001b[0;32m    329\u001b[0m \u001b[38;5;28;01melse\u001b[39;00m:\n\u001b[0;32m    330\u001b[0m     \u001b[38;5;28;01mraise\u001b[39;00m Py4JError(\n\u001b[0;32m    331\u001b[0m         \u001b[38;5;124m\"\u001b[39m\u001b[38;5;124mAn error occurred while calling \u001b[39m\u001b[38;5;132;01m{0}\u001b[39;00m\u001b[38;5;132;01m{1}\u001b[39;00m\u001b[38;5;132;01m{2}\u001b[39;00m\u001b[38;5;124m. Trace:\u001b[39m\u001b[38;5;130;01m\\n\u001b[39;00m\u001b[38;5;132;01m{3}\u001b[39;00m\u001b[38;5;130;01m\\n\u001b[39;00m\u001b[38;5;124m\"\u001b[39m\u001b[38;5;241m.\u001b[39m\n\u001b[0;32m    332\u001b[0m         \u001b[38;5;28mformat\u001b[39m(target_id, \u001b[38;5;124m\"\u001b[39m\u001b[38;5;124m.\u001b[39m\u001b[38;5;124m\"\u001b[39m, name, value))\n",
      "\u001b[1;31mPy4JJavaError\u001b[0m: An error occurred while calling o184.collectToPython.\n: org.apache.spark.SparkException: Job aborted due to stage failure: Task 0 in stage 25.0 failed 1 times, most recent failure: Lost task 0.0 in stage 25.0 (TID 19) (853CBX3 executor driver): org.apache.spark.SparkException: Python worker failed to connect back.\r\n\tat org.apache.spark.api.python.PythonWorkerFactory.createSimpleWorker(PythonWorkerFactory.scala:203)\r\n\tat org.apache.spark.api.python.PythonWorkerFactory.create(PythonWorkerFactory.scala:109)\r\n\tat org.apache.spark.SparkEnv.createPythonWorker(SparkEnv.scala:124)\r\n\tat org.apache.spark.api.python.BasePythonRunner.compute(PythonRunner.scala:174)\r\n\tat org.apache.spark.sql.execution.python.BatchEvalPythonExec.evaluate(BatchEvalPythonExec.scala:54)\r\n\tat org.apache.spark.sql.execution.python.EvalPythonExec.$anonfun$doExecute$2(EvalPythonExec.scala:131)\r\n\tat org.apache.spark.rdd.RDD.$anonfun$mapPartitions$2(RDD.scala:858)\r\n\tat org.apache.spark.rdd.RDD.$anonfun$mapPartitions$2$adapted(RDD.scala:858)\r\n\tat org.apache.spark.rdd.MapPartitionsRDD.compute(MapPartitionsRDD.scala:52)\r\n\tat org.apache.spark.rdd.RDD.computeOrReadCheckpoint(RDD.scala:367)\r\n\tat org.apache.spark.rdd.RDD.iterator(RDD.scala:331)\r\n\tat org.apache.spark.rdd.MapPartitionsRDD.compute(MapPartitionsRDD.scala:52)\r\n\tat org.apache.spark.rdd.RDD.computeOrReadCheckpoint(RDD.scala:367)\r\n\tat org.apache.spark.rdd.RDD.iterator(RDD.scala:331)\r\n\tat org.apache.spark.rdd.MapPartitionsRDD.compute(MapPartitionsRDD.scala:52)\r\n\tat org.apache.spark.rdd.RDD.computeOrReadCheckpoint(RDD.scala:367)\r\n\tat org.apache.spark.rdd.RDD.iterator(RDD.scala:331)\r\n\tat org.apache.spark.scheduler.ResultTask.runTask(ResultTask.scala:93)\r\n\tat org.apache.spark.TaskContext.runTaskWithListeners(TaskContext.scala:166)\r\n\tat org.apache.spark.scheduler.Task.run(Task.scala:141)\r\n\tat org.apache.spark.executor.Executor$TaskRunner.$anonfun$run$4(Executor.scala:620)\r\n\tat org.apache.spark.util.SparkErrorUtils.tryWithSafeFinally(SparkErrorUtils.scala:64)\r\n\tat org.apache.spark.util.SparkErrorUtils.tryWithSafeFinally$(SparkErrorUtils.scala:61)\r\n\tat org.apache.spark.util.Utils$.tryWithSafeFinally(Utils.scala:94)\r\n\tat org.apache.spark.executor.Executor$TaskRunner.run(Executor.scala:623)\r\n\tat java.base/java.util.concurrent.ThreadPoolExecutor.runWorker(ThreadPoolExecutor.java:1144)\r\n\tat java.base/java.util.concurrent.ThreadPoolExecutor$Worker.run(ThreadPoolExecutor.java:642)\r\n\tat java.base/java.lang.Thread.run(Thread.java:1570)\r\nCaused by: java.net.SocketTimeoutException: Accept timed out\r\n\tat java.base/sun.nio.ch.NioSocketImpl.timedAccept(NioSocketImpl.java:701)\r\n\tat java.base/sun.nio.ch.NioSocketImpl.accept(NioSocketImpl.java:745)\r\n\tat java.base/java.net.ServerSocket.implAccept(ServerSocket.java:695)\r\n\tat java.base/java.net.ServerSocket.platformImplAccept(ServerSocket.java:660)\r\n\tat java.base/java.net.ServerSocket.implAccept(ServerSocket.java:636)\r\n\tat java.base/java.net.ServerSocket.implAccept(ServerSocket.java:582)\r\n\tat java.base/java.net.ServerSocket.accept(ServerSocket.java:541)\r\n\tat org.apache.spark.api.python.PythonWorkerFactory.createSimpleWorker(PythonWorkerFactory.scala:190)\r\n\t... 27 more\r\n\nDriver stacktrace:\r\n\tat org.apache.spark.scheduler.DAGScheduler.failJobAndIndependentStages(DAGScheduler.scala:2856)\r\n\tat org.apache.spark.scheduler.DAGScheduler.$anonfun$abortStage$2(DAGScheduler.scala:2792)\r\n\tat org.apache.spark.scheduler.DAGScheduler.$anonfun$abortStage$2$adapted(DAGScheduler.scala:2791)\r\n\tat scala.collection.mutable.ResizableArray.foreach(ResizableArray.scala:62)\r\n\tat scala.collection.mutable.ResizableArray.foreach$(ResizableArray.scala:55)\r\n\tat scala.collection.mutable.ArrayBuffer.foreach(ArrayBuffer.scala:49)\r\n\tat org.apache.spark.scheduler.DAGScheduler.abortStage(DAGScheduler.scala:2791)\r\n\tat org.apache.spark.scheduler.DAGScheduler.$anonfun$handleTaskSetFailed$1(DAGScheduler.scala:1247)\r\n\tat org.apache.spark.scheduler.DAGScheduler.$anonfun$handleTaskSetFailed$1$adapted(DAGScheduler.scala:1247)\r\n\tat scala.Option.foreach(Option.scala:407)\r\n\tat org.apache.spark.scheduler.DAGScheduler.handleTaskSetFailed(DAGScheduler.scala:1247)\r\n\tat org.apache.spark.scheduler.DAGSchedulerEventProcessLoop.doOnReceive(DAGScheduler.scala:3060)\r\n\tat org.apache.spark.scheduler.DAGSchedulerEventProcessLoop.onReceive(DAGScheduler.scala:2994)\r\n\tat org.apache.spark.scheduler.DAGSchedulerEventProcessLoop.onReceive(DAGScheduler.scala:2983)\r\n\tat org.apache.spark.util.EventLoop$$anon$1.run(EventLoop.scala:49)\r\n\tat org.apache.spark.scheduler.DAGScheduler.runJob(DAGScheduler.scala:989)\r\n\tat org.apache.spark.SparkContext.runJob(SparkContext.scala:2393)\r\n\tat org.apache.spark.SparkContext.runJob(SparkContext.scala:2414)\r\n\tat org.apache.spark.SparkContext.runJob(SparkContext.scala:2433)\r\n\tat org.apache.spark.sql.execution.SparkPlan.executeTake(SparkPlan.scala:530)\r\n\tat org.apache.spark.sql.execution.SparkPlan.executeTake(SparkPlan.scala:483)\r\n\tat org.apache.spark.sql.execution.CollectLimitExec.executeCollect(limit.scala:61)\r\n\tat org.apache.spark.sql.Dataset.$anonfun$collectToPython$1(Dataset.scala:4150)\r\n\tat org.apache.spark.sql.Dataset.$anonfun$withAction$2(Dataset.scala:4324)\r\n\tat org.apache.spark.sql.execution.QueryExecution$.withInternalError(QueryExecution.scala:546)\r\n\tat org.apache.spark.sql.Dataset.$anonfun$withAction$1(Dataset.scala:4322)\r\n\tat org.apache.spark.sql.execution.SQLExecution$.$anonfun$withNewExecutionId$6(SQLExecution.scala:125)\r\n\tat org.apache.spark.sql.execution.SQLExecution$.withSQLConfPropagated(SQLExecution.scala:201)\r\n\tat org.apache.spark.sql.execution.SQLExecution$.$anonfun$withNewExecutionId$1(SQLExecution.scala:108)\r\n\tat org.apache.spark.sql.SparkSession.withActive(SparkSession.scala:900)\r\n\tat org.apache.spark.sql.execution.SQLExecution$.withNewExecutionId(SQLExecution.scala:66)\r\n\tat org.apache.spark.sql.Dataset.withAction(Dataset.scala:4322)\r\n\tat org.apache.spark.sql.Dataset.collectToPython(Dataset.scala:4147)\r\n\tat java.base/jdk.internal.reflect.DirectMethodHandleAccessor.invoke(DirectMethodHandleAccessor.java:103)\r\n\tat java.base/java.lang.reflect.Method.invoke(Method.java:580)\r\n\tat py4j.reflection.MethodInvoker.invoke(MethodInvoker.java:244)\r\n\tat py4j.reflection.ReflectionEngine.invoke(ReflectionEngine.java:374)\r\n\tat py4j.Gateway.invoke(Gateway.java:282)\r\n\tat py4j.commands.AbstractCommand.invokeMethod(AbstractCommand.java:132)\r\n\tat py4j.commands.CallCommand.execute(CallCommand.java:79)\r\n\tat py4j.ClientServerConnection.waitForCommands(ClientServerConnection.java:182)\r\n\tat py4j.ClientServerConnection.run(ClientServerConnection.java:106)\r\n\tat java.base/java.lang.Thread.run(Thread.java:1570)\r\nCaused by: org.apache.spark.SparkException: Python worker failed to connect back.\r\n\tat org.apache.spark.api.python.PythonWorkerFactory.createSimpleWorker(PythonWorkerFactory.scala:203)\r\n\tat org.apache.spark.api.python.PythonWorkerFactory.create(PythonWorkerFactory.scala:109)\r\n\tat org.apache.spark.SparkEnv.createPythonWorker(SparkEnv.scala:124)\r\n\tat org.apache.spark.api.python.BasePythonRunner.compute(PythonRunner.scala:174)\r\n\tat org.apache.spark.sql.execution.python.BatchEvalPythonExec.evaluate(BatchEvalPythonExec.scala:54)\r\n\tat org.apache.spark.sql.execution.python.EvalPythonExec.$anonfun$doExecute$2(EvalPythonExec.scala:131)\r\n\tat org.apache.spark.rdd.RDD.$anonfun$mapPartitions$2(RDD.scala:858)\r\n\tat org.apache.spark.rdd.RDD.$anonfun$mapPartitions$2$adapted(RDD.scala:858)\r\n\tat org.apache.spark.rdd.MapPartitionsRDD.compute(MapPartitionsRDD.scala:52)\r\n\tat org.apache.spark.rdd.RDD.computeOrReadCheckpoint(RDD.scala:367)\r\n\tat org.apache.spark.rdd.RDD.iterator(RDD.scala:331)\r\n\tat org.apache.spark.rdd.MapPartitionsRDD.compute(MapPartitionsRDD.scala:52)\r\n\tat org.apache.spark.rdd.RDD.computeOrReadCheckpoint(RDD.scala:367)\r\n\tat org.apache.spark.rdd.RDD.iterator(RDD.scala:331)\r\n\tat org.apache.spark.rdd.MapPartitionsRDD.compute(MapPartitionsRDD.scala:52)\r\n\tat org.apache.spark.rdd.RDD.computeOrReadCheckpoint(RDD.scala:367)\r\n\tat org.apache.spark.rdd.RDD.iterator(RDD.scala:331)\r\n\tat org.apache.spark.scheduler.ResultTask.runTask(ResultTask.scala:93)\r\n\tat org.apache.spark.TaskContext.runTaskWithListeners(TaskContext.scala:166)\r\n\tat org.apache.spark.scheduler.Task.run(Task.scala:141)\r\n\tat org.apache.spark.executor.Executor$TaskRunner.$anonfun$run$4(Executor.scala:620)\r\n\tat org.apache.spark.util.SparkErrorUtils.tryWithSafeFinally(SparkErrorUtils.scala:64)\r\n\tat org.apache.spark.util.SparkErrorUtils.tryWithSafeFinally$(SparkErrorUtils.scala:61)\r\n\tat org.apache.spark.util.Utils$.tryWithSafeFinally(Utils.scala:94)\r\n\tat org.apache.spark.executor.Executor$TaskRunner.run(Executor.scala:623)\r\n\tat java.base/java.util.concurrent.ThreadPoolExecutor.runWorker(ThreadPoolExecutor.java:1144)\r\n\tat java.base/java.util.concurrent.ThreadPoolExecutor$Worker.run(ThreadPoolExecutor.java:642)\r\n\t... 1 more\r\nCaused by: java.net.SocketTimeoutException: Accept timed out\r\n\tat java.base/sun.nio.ch.NioSocketImpl.timedAccept(NioSocketImpl.java:701)\r\n\tat java.base/sun.nio.ch.NioSocketImpl.accept(NioSocketImpl.java:745)\r\n\tat java.base/java.net.ServerSocket.implAccept(ServerSocket.java:695)\r\n\tat java.base/java.net.ServerSocket.platformImplAccept(ServerSocket.java:660)\r\n\tat java.base/java.net.ServerSocket.implAccept(ServerSocket.java:636)\r\n\tat java.base/java.net.ServerSocket.implAccept(ServerSocket.java:582)\r\n\tat java.base/java.net.ServerSocket.accept(ServerSocket.java:541)\r\n\tat org.apache.spark.api.python.PythonWorkerFactory.createSimpleWorker(PythonWorkerFactory.scala:190)\r\n\t... 27 more\r\n"
     ]
    }
   ],
   "source": [
    "df_coviddata_f.head(4)"
   ]
  },
  {
   "cell_type": "code",
   "execution_count": 132,
   "id": "ce78de00",
   "metadata": {},
   "outputs": [
    {
     "ename": "Py4JJavaError",
     "evalue": "An error occurred while calling o1136.showString.\n: org.apache.spark.SparkException: Job aborted due to stage failure: Task 0 in stage 112.0 failed 1 times, most recent failure: Lost task 0.0 in stage 112.0 (TID 90) (Rokesh executor driver): org.apache.spark.SparkException: Python worker failed to connect back.\r\n\tat org.apache.spark.api.python.PythonWorkerFactory.createSimpleWorker(PythonWorkerFactory.scala:203)\r\n\tat org.apache.spark.api.python.PythonWorkerFactory.create(PythonWorkerFactory.scala:109)\r\n\tat org.apache.spark.SparkEnv.createPythonWorker(SparkEnv.scala:124)\r\n\tat org.apache.spark.api.python.BasePythonRunner.compute(PythonRunner.scala:174)\r\n\tat org.apache.spark.sql.execution.python.BatchEvalPythonExec.evaluate(BatchEvalPythonExec.scala:54)\r\n\tat org.apache.spark.sql.execution.python.EvalPythonExec.$anonfun$doExecute$2(EvalPythonExec.scala:131)\r\n\tat org.apache.spark.rdd.RDD.$anonfun$mapPartitions$2(RDD.scala:858)\r\n\tat org.apache.spark.rdd.RDD.$anonfun$mapPartitions$2$adapted(RDD.scala:858)\r\n\tat org.apache.spark.rdd.MapPartitionsRDD.compute(MapPartitionsRDD.scala:52)\r\n\tat org.apache.spark.rdd.RDD.computeOrReadCheckpoint(RDD.scala:367)\r\n\tat org.apache.spark.rdd.RDD.iterator(RDD.scala:331)\r\n\tat org.apache.spark.rdd.MapPartitionsRDD.compute(MapPartitionsRDD.scala:52)\r\n\tat org.apache.spark.rdd.RDD.computeOrReadCheckpoint(RDD.scala:367)\r\n\tat org.apache.spark.rdd.RDD.iterator(RDD.scala:331)\r\n\tat org.apache.spark.rdd.MapPartitionsRDD.compute(MapPartitionsRDD.scala:52)\r\n\tat org.apache.spark.rdd.RDD.computeOrReadCheckpoint(RDD.scala:367)\r\n\tat org.apache.spark.rdd.RDD.iterator(RDD.scala:331)\r\n\tat org.apache.spark.shuffle.ShuffleWriteProcessor.write(ShuffleWriteProcessor.scala:59)\r\n\tat org.apache.spark.scheduler.ShuffleMapTask.runTask(ShuffleMapTask.scala:104)\r\n\tat org.apache.spark.scheduler.ShuffleMapTask.runTask(ShuffleMapTask.scala:54)\r\n\tat org.apache.spark.TaskContext.runTaskWithListeners(TaskContext.scala:166)\r\n\tat org.apache.spark.scheduler.Task.run(Task.scala:141)\r\n\tat org.apache.spark.executor.Executor$TaskRunner.$anonfun$run$4(Executor.scala:620)\r\n\tat org.apache.spark.util.SparkErrorUtils.tryWithSafeFinally(SparkErrorUtils.scala:64)\r\n\tat org.apache.spark.util.SparkErrorUtils.tryWithSafeFinally$(SparkErrorUtils.scala:61)\r\n\tat org.apache.spark.util.Utils$.tryWithSafeFinally(Utils.scala:94)\r\n\tat org.apache.spark.executor.Executor$TaskRunner.run(Executor.scala:623)\r\n\tat java.base/java.util.concurrent.ThreadPoolExecutor.runWorker(ThreadPoolExecutor.java:1144)\r\n\tat java.base/java.util.concurrent.ThreadPoolExecutor$Worker.run(ThreadPoolExecutor.java:642)\r\n\tat java.base/java.lang.Thread.run(Thread.java:1570)\r\nCaused by: java.net.SocketTimeoutException: Accept timed out\r\n\tat java.base/sun.nio.ch.NioSocketImpl.timedAccept(NioSocketImpl.java:701)\r\n\tat java.base/sun.nio.ch.NioSocketImpl.accept(NioSocketImpl.java:745)\r\n\tat java.base/java.net.ServerSocket.implAccept(ServerSocket.java:695)\r\n\tat java.base/java.net.ServerSocket.platformImplAccept(ServerSocket.java:660)\r\n\tat java.base/java.net.ServerSocket.implAccept(ServerSocket.java:636)\r\n\tat java.base/java.net.ServerSocket.implAccept(ServerSocket.java:582)\r\n\tat java.base/java.net.ServerSocket.accept(ServerSocket.java:541)\r\n\tat org.apache.spark.api.python.PythonWorkerFactory.createSimpleWorker(PythonWorkerFactory.scala:190)\r\n\t... 29 more\r\n\nDriver stacktrace:\r\n\tat org.apache.spark.scheduler.DAGScheduler.failJobAndIndependentStages(DAGScheduler.scala:2856)\r\n\tat org.apache.spark.scheduler.DAGScheduler.$anonfun$abortStage$2(DAGScheduler.scala:2792)\r\n\tat org.apache.spark.scheduler.DAGScheduler.$anonfun$abortStage$2$adapted(DAGScheduler.scala:2791)\r\n\tat scala.collection.mutable.ResizableArray.foreach(ResizableArray.scala:62)\r\n\tat scala.collection.mutable.ResizableArray.foreach$(ResizableArray.scala:55)\r\n\tat scala.collection.mutable.ArrayBuffer.foreach(ArrayBuffer.scala:49)\r\n\tat org.apache.spark.scheduler.DAGScheduler.abortStage(DAGScheduler.scala:2791)\r\n\tat org.apache.spark.scheduler.DAGScheduler.$anonfun$handleTaskSetFailed$1(DAGScheduler.scala:1247)\r\n\tat org.apache.spark.scheduler.DAGScheduler.$anonfun$handleTaskSetFailed$1$adapted(DAGScheduler.scala:1247)\r\n\tat scala.Option.foreach(Option.scala:407)\r\n\tat org.apache.spark.scheduler.DAGScheduler.handleTaskSetFailed(DAGScheduler.scala:1247)\r\n\tat org.apache.spark.scheduler.DAGSchedulerEventProcessLoop.doOnReceive(DAGScheduler.scala:3060)\r\n\tat org.apache.spark.scheduler.DAGSchedulerEventProcessLoop.onReceive(DAGScheduler.scala:2994)\r\n\tat org.apache.spark.scheduler.DAGSchedulerEventProcessLoop.onReceive(DAGScheduler.scala:2983)\r\n\tat org.apache.spark.util.EventLoop$$anon$1.run(EventLoop.scala:49)\r\nCaused by: org.apache.spark.SparkException: Python worker failed to connect back.\r\n\tat org.apache.spark.api.python.PythonWorkerFactory.createSimpleWorker(PythonWorkerFactory.scala:203)\r\n\tat org.apache.spark.api.python.PythonWorkerFactory.create(PythonWorkerFactory.scala:109)\r\n\tat org.apache.spark.SparkEnv.createPythonWorker(SparkEnv.scala:124)\r\n\tat org.apache.spark.api.python.BasePythonRunner.compute(PythonRunner.scala:174)\r\n\tat org.apache.spark.sql.execution.python.BatchEvalPythonExec.evaluate(BatchEvalPythonExec.scala:54)\r\n\tat org.apache.spark.sql.execution.python.EvalPythonExec.$anonfun$doExecute$2(EvalPythonExec.scala:131)\r\n\tat org.apache.spark.rdd.RDD.$anonfun$mapPartitions$2(RDD.scala:858)\r\n\tat org.apache.spark.rdd.RDD.$anonfun$mapPartitions$2$adapted(RDD.scala:858)\r\n\tat org.apache.spark.rdd.MapPartitionsRDD.compute(MapPartitionsRDD.scala:52)\r\n\tat org.apache.spark.rdd.RDD.computeOrReadCheckpoint(RDD.scala:367)\r\n\tat org.apache.spark.rdd.RDD.iterator(RDD.scala:331)\r\n\tat org.apache.spark.rdd.MapPartitionsRDD.compute(MapPartitionsRDD.scala:52)\r\n\tat org.apache.spark.rdd.RDD.computeOrReadCheckpoint(RDD.scala:367)\r\n\tat org.apache.spark.rdd.RDD.iterator(RDD.scala:331)\r\n\tat org.apache.spark.rdd.MapPartitionsRDD.compute(MapPartitionsRDD.scala:52)\r\n\tat org.apache.spark.rdd.RDD.computeOrReadCheckpoint(RDD.scala:367)\r\n\tat org.apache.spark.rdd.RDD.iterator(RDD.scala:331)\r\n\tat org.apache.spark.shuffle.ShuffleWriteProcessor.write(ShuffleWriteProcessor.scala:59)\r\n\tat org.apache.spark.scheduler.ShuffleMapTask.runTask(ShuffleMapTask.scala:104)\r\n\tat org.apache.spark.scheduler.ShuffleMapTask.runTask(ShuffleMapTask.scala:54)\r\n\tat org.apache.spark.TaskContext.runTaskWithListeners(TaskContext.scala:166)\r\n\tat org.apache.spark.scheduler.Task.run(Task.scala:141)\r\n\tat org.apache.spark.executor.Executor$TaskRunner.$anonfun$run$4(Executor.scala:620)\r\n\tat org.apache.spark.util.SparkErrorUtils.tryWithSafeFinally(SparkErrorUtils.scala:64)\r\n\tat org.apache.spark.util.SparkErrorUtils.tryWithSafeFinally$(SparkErrorUtils.scala:61)\r\n\tat org.apache.spark.util.Utils$.tryWithSafeFinally(Utils.scala:94)\r\n\tat org.apache.spark.executor.Executor$TaskRunner.run(Executor.scala:623)\r\n\tat java.base/java.util.concurrent.ThreadPoolExecutor.runWorker(ThreadPoolExecutor.java:1144)\r\n\tat java.base/java.util.concurrent.ThreadPoolExecutor$Worker.run(ThreadPoolExecutor.java:642)\r\n\tat java.base/java.lang.Thread.run(Thread.java:1570)\r\nCaused by: java.net.SocketTimeoutException: Accept timed out\r\n\tat java.base/sun.nio.ch.NioSocketImpl.timedAccept(NioSocketImpl.java:701)\r\n\tat java.base/sun.nio.ch.NioSocketImpl.accept(NioSocketImpl.java:745)\r\n\tat java.base/java.net.ServerSocket.implAccept(ServerSocket.java:695)\r\n\tat java.base/java.net.ServerSocket.platformImplAccept(ServerSocket.java:660)\r\n\tat java.base/java.net.ServerSocket.implAccept(ServerSocket.java:636)\r\n\tat java.base/java.net.ServerSocket.implAccept(ServerSocket.java:582)\r\n\tat java.base/java.net.ServerSocket.accept(ServerSocket.java:541)\r\n\tat org.apache.spark.api.python.PythonWorkerFactory.createSimpleWorker(PythonWorkerFactory.scala:190)\r\n\t... 29 more\r\n",
     "output_type": "error",
     "traceback": [
      "\u001b[1;31m---------------------------------------------------------------------------\u001b[0m",
      "\u001b[1;31mPy4JJavaError\u001b[0m                             Traceback (most recent call last)",
      "Cell \u001b[1;32mIn[132], line 3\u001b[0m\n\u001b[0;32m      1\u001b[0m monthly_recovery_df \u001b[38;5;241m=\u001b[39m df_coviddata\u001b[38;5;241m.\u001b[39mgroupBy(\u001b[38;5;124m\"\u001b[39m\u001b[38;5;124mmonth\u001b[39m\u001b[38;5;124m\"\u001b[39m)\u001b[38;5;241m.\u001b[39magg(bf\u001b[38;5;241m.\u001b[39msum(\u001b[38;5;124m\"\u001b[39m\u001b[38;5;124mNew recovered\u001b[39m\u001b[38;5;124m\"\u001b[39m)\u001b[38;5;241m.\u001b[39malias(\u001b[38;5;124m\"\u001b[39m\u001b[38;5;124mtotal_recovered_cases_by_month\u001b[39m\u001b[38;5;124m\"\u001b[39m))\n\u001b[0;32m      2\u001b[0m \u001b[38;5;66;03m# monthly_recovery_df = monthly_recovery_df.orderBy(bf.col('total_recovered_cases_by_month').desc()).limit(1)\u001b[39;00m\n\u001b[1;32m----> 3\u001b[0m \u001b[43mmonthly_recovery_df\u001b[49m\u001b[38;5;241;43m.\u001b[39;49m\u001b[43mshow\u001b[49m\u001b[43m(\u001b[49m\u001b[43m)\u001b[49m\n",
      "File \u001b[1;32mc:\\Python312\\Lib\\site-packages\\pyspark\\sql\\dataframe.py:947\u001b[0m, in \u001b[0;36mDataFrame.show\u001b[1;34m(self, n, truncate, vertical)\u001b[0m\n\u001b[0;32m    887\u001b[0m \u001b[38;5;28;01mdef\u001b[39;00m \u001b[38;5;21mshow\u001b[39m(\u001b[38;5;28mself\u001b[39m, n: \u001b[38;5;28mint\u001b[39m \u001b[38;5;241m=\u001b[39m \u001b[38;5;241m20\u001b[39m, truncate: Union[\u001b[38;5;28mbool\u001b[39m, \u001b[38;5;28mint\u001b[39m] \u001b[38;5;241m=\u001b[39m \u001b[38;5;28;01mTrue\u001b[39;00m, vertical: \u001b[38;5;28mbool\u001b[39m \u001b[38;5;241m=\u001b[39m \u001b[38;5;28;01mFalse\u001b[39;00m) \u001b[38;5;241m-\u001b[39m\u001b[38;5;241m>\u001b[39m \u001b[38;5;28;01mNone\u001b[39;00m:\n\u001b[0;32m    888\u001b[0m \u001b[38;5;250m    \u001b[39m\u001b[38;5;124;03m\"\"\"Prints the first ``n`` rows to the console.\u001b[39;00m\n\u001b[0;32m    889\u001b[0m \n\u001b[0;32m    890\u001b[0m \u001b[38;5;124;03m    .. versionadded:: 1.3.0\u001b[39;00m\n\u001b[1;32m   (...)\u001b[0m\n\u001b[0;32m    945\u001b[0m \u001b[38;5;124;03m    name | Bob\u001b[39;00m\n\u001b[0;32m    946\u001b[0m \u001b[38;5;124;03m    \"\"\"\u001b[39;00m\n\u001b[1;32m--> 947\u001b[0m     \u001b[38;5;28mprint\u001b[39m(\u001b[38;5;28;43mself\u001b[39;49m\u001b[38;5;241;43m.\u001b[39;49m\u001b[43m_show_string\u001b[49m\u001b[43m(\u001b[49m\u001b[43mn\u001b[49m\u001b[43m,\u001b[49m\u001b[43m \u001b[49m\u001b[43mtruncate\u001b[49m\u001b[43m,\u001b[49m\u001b[43m \u001b[49m\u001b[43mvertical\u001b[49m\u001b[43m)\u001b[49m)\n",
      "File \u001b[1;32mc:\\Python312\\Lib\\site-packages\\pyspark\\sql\\dataframe.py:965\u001b[0m, in \u001b[0;36mDataFrame._show_string\u001b[1;34m(self, n, truncate, vertical)\u001b[0m\n\u001b[0;32m    959\u001b[0m     \u001b[38;5;28;01mraise\u001b[39;00m PySparkTypeError(\n\u001b[0;32m    960\u001b[0m         error_class\u001b[38;5;241m=\u001b[39m\u001b[38;5;124m\"\u001b[39m\u001b[38;5;124mNOT_BOOL\u001b[39m\u001b[38;5;124m\"\u001b[39m,\n\u001b[0;32m    961\u001b[0m         message_parameters\u001b[38;5;241m=\u001b[39m{\u001b[38;5;124m\"\u001b[39m\u001b[38;5;124marg_name\u001b[39m\u001b[38;5;124m\"\u001b[39m: \u001b[38;5;124m\"\u001b[39m\u001b[38;5;124mvertical\u001b[39m\u001b[38;5;124m\"\u001b[39m, \u001b[38;5;124m\"\u001b[39m\u001b[38;5;124marg_type\u001b[39m\u001b[38;5;124m\"\u001b[39m: \u001b[38;5;28mtype\u001b[39m(vertical)\u001b[38;5;241m.\u001b[39m\u001b[38;5;18m__name__\u001b[39m},\n\u001b[0;32m    962\u001b[0m     )\n\u001b[0;32m    964\u001b[0m \u001b[38;5;28;01mif\u001b[39;00m \u001b[38;5;28misinstance\u001b[39m(truncate, \u001b[38;5;28mbool\u001b[39m) \u001b[38;5;129;01mand\u001b[39;00m truncate:\n\u001b[1;32m--> 965\u001b[0m     \u001b[38;5;28;01mreturn\u001b[39;00m \u001b[38;5;28;43mself\u001b[39;49m\u001b[38;5;241;43m.\u001b[39;49m\u001b[43m_jdf\u001b[49m\u001b[38;5;241;43m.\u001b[39;49m\u001b[43mshowString\u001b[49m\u001b[43m(\u001b[49m\u001b[43mn\u001b[49m\u001b[43m,\u001b[49m\u001b[43m \u001b[49m\u001b[38;5;241;43m20\u001b[39;49m\u001b[43m,\u001b[49m\u001b[43m \u001b[49m\u001b[43mvertical\u001b[49m\u001b[43m)\u001b[49m\n\u001b[0;32m    966\u001b[0m \u001b[38;5;28;01melse\u001b[39;00m:\n\u001b[0;32m    967\u001b[0m     \u001b[38;5;28;01mtry\u001b[39;00m:\n",
      "File \u001b[1;32mc:\\Python312\\Lib\\site-packages\\py4j\\java_gateway.py:1322\u001b[0m, in \u001b[0;36mJavaMember.__call__\u001b[1;34m(self, *args)\u001b[0m\n\u001b[0;32m   1316\u001b[0m command \u001b[38;5;241m=\u001b[39m proto\u001b[38;5;241m.\u001b[39mCALL_COMMAND_NAME \u001b[38;5;241m+\u001b[39m\\\n\u001b[0;32m   1317\u001b[0m     \u001b[38;5;28mself\u001b[39m\u001b[38;5;241m.\u001b[39mcommand_header \u001b[38;5;241m+\u001b[39m\\\n\u001b[0;32m   1318\u001b[0m     args_command \u001b[38;5;241m+\u001b[39m\\\n\u001b[0;32m   1319\u001b[0m     proto\u001b[38;5;241m.\u001b[39mEND_COMMAND_PART\n\u001b[0;32m   1321\u001b[0m answer \u001b[38;5;241m=\u001b[39m \u001b[38;5;28mself\u001b[39m\u001b[38;5;241m.\u001b[39mgateway_client\u001b[38;5;241m.\u001b[39msend_command(command)\n\u001b[1;32m-> 1322\u001b[0m return_value \u001b[38;5;241m=\u001b[39m \u001b[43mget_return_value\u001b[49m\u001b[43m(\u001b[49m\n\u001b[0;32m   1323\u001b[0m \u001b[43m    \u001b[49m\u001b[43manswer\u001b[49m\u001b[43m,\u001b[49m\u001b[43m \u001b[49m\u001b[38;5;28;43mself\u001b[39;49m\u001b[38;5;241;43m.\u001b[39;49m\u001b[43mgateway_client\u001b[49m\u001b[43m,\u001b[49m\u001b[43m \u001b[49m\u001b[38;5;28;43mself\u001b[39;49m\u001b[38;5;241;43m.\u001b[39;49m\u001b[43mtarget_id\u001b[49m\u001b[43m,\u001b[49m\u001b[43m \u001b[49m\u001b[38;5;28;43mself\u001b[39;49m\u001b[38;5;241;43m.\u001b[39;49m\u001b[43mname\u001b[49m\u001b[43m)\u001b[49m\n\u001b[0;32m   1325\u001b[0m \u001b[38;5;28;01mfor\u001b[39;00m temp_arg \u001b[38;5;129;01min\u001b[39;00m temp_args:\n\u001b[0;32m   1326\u001b[0m     \u001b[38;5;28;01mif\u001b[39;00m \u001b[38;5;28mhasattr\u001b[39m(temp_arg, \u001b[38;5;124m\"\u001b[39m\u001b[38;5;124m_detach\u001b[39m\u001b[38;5;124m\"\u001b[39m):\n",
      "File \u001b[1;32mc:\\Python312\\Lib\\site-packages\\pyspark\\errors\\exceptions\\captured.py:179\u001b[0m, in \u001b[0;36mcapture_sql_exception.<locals>.deco\u001b[1;34m(*a, **kw)\u001b[0m\n\u001b[0;32m    177\u001b[0m \u001b[38;5;28;01mdef\u001b[39;00m \u001b[38;5;21mdeco\u001b[39m(\u001b[38;5;241m*\u001b[39ma: Any, \u001b[38;5;241m*\u001b[39m\u001b[38;5;241m*\u001b[39mkw: Any) \u001b[38;5;241m-\u001b[39m\u001b[38;5;241m>\u001b[39m Any:\n\u001b[0;32m    178\u001b[0m     \u001b[38;5;28;01mtry\u001b[39;00m:\n\u001b[1;32m--> 179\u001b[0m         \u001b[38;5;28;01mreturn\u001b[39;00m \u001b[43mf\u001b[49m\u001b[43m(\u001b[49m\u001b[38;5;241;43m*\u001b[39;49m\u001b[43ma\u001b[49m\u001b[43m,\u001b[49m\u001b[43m \u001b[49m\u001b[38;5;241;43m*\u001b[39;49m\u001b[38;5;241;43m*\u001b[39;49m\u001b[43mkw\u001b[49m\u001b[43m)\u001b[49m\n\u001b[0;32m    180\u001b[0m     \u001b[38;5;28;01mexcept\u001b[39;00m Py4JJavaError \u001b[38;5;28;01mas\u001b[39;00m e:\n\u001b[0;32m    181\u001b[0m         converted \u001b[38;5;241m=\u001b[39m convert_exception(e\u001b[38;5;241m.\u001b[39mjava_exception)\n",
      "File \u001b[1;32mc:\\Python312\\Lib\\site-packages\\py4j\\protocol.py:326\u001b[0m, in \u001b[0;36mget_return_value\u001b[1;34m(answer, gateway_client, target_id, name)\u001b[0m\n\u001b[0;32m    324\u001b[0m value \u001b[38;5;241m=\u001b[39m OUTPUT_CONVERTER[\u001b[38;5;28mtype\u001b[39m](answer[\u001b[38;5;241m2\u001b[39m:], gateway_client)\n\u001b[0;32m    325\u001b[0m \u001b[38;5;28;01mif\u001b[39;00m answer[\u001b[38;5;241m1\u001b[39m] \u001b[38;5;241m==\u001b[39m REFERENCE_TYPE:\n\u001b[1;32m--> 326\u001b[0m     \u001b[38;5;28;01mraise\u001b[39;00m Py4JJavaError(\n\u001b[0;32m    327\u001b[0m         \u001b[38;5;124m\"\u001b[39m\u001b[38;5;124mAn error occurred while calling \u001b[39m\u001b[38;5;132;01m{0}\u001b[39;00m\u001b[38;5;132;01m{1}\u001b[39;00m\u001b[38;5;132;01m{2}\u001b[39;00m\u001b[38;5;124m.\u001b[39m\u001b[38;5;130;01m\\n\u001b[39;00m\u001b[38;5;124m\"\u001b[39m\u001b[38;5;241m.\u001b[39m\n\u001b[0;32m    328\u001b[0m         \u001b[38;5;28mformat\u001b[39m(target_id, \u001b[38;5;124m\"\u001b[39m\u001b[38;5;124m.\u001b[39m\u001b[38;5;124m\"\u001b[39m, name), value)\n\u001b[0;32m    329\u001b[0m \u001b[38;5;28;01melse\u001b[39;00m:\n\u001b[0;32m    330\u001b[0m     \u001b[38;5;28;01mraise\u001b[39;00m Py4JError(\n\u001b[0;32m    331\u001b[0m         \u001b[38;5;124m\"\u001b[39m\u001b[38;5;124mAn error occurred while calling \u001b[39m\u001b[38;5;132;01m{0}\u001b[39;00m\u001b[38;5;132;01m{1}\u001b[39;00m\u001b[38;5;132;01m{2}\u001b[39;00m\u001b[38;5;124m. Trace:\u001b[39m\u001b[38;5;130;01m\\n\u001b[39;00m\u001b[38;5;132;01m{3}\u001b[39;00m\u001b[38;5;130;01m\\n\u001b[39;00m\u001b[38;5;124m\"\u001b[39m\u001b[38;5;241m.\u001b[39m\n\u001b[0;32m    332\u001b[0m         \u001b[38;5;28mformat\u001b[39m(target_id, \u001b[38;5;124m\"\u001b[39m\u001b[38;5;124m.\u001b[39m\u001b[38;5;124m\"\u001b[39m, name, value))\n",
      "\u001b[1;31mPy4JJavaError\u001b[0m: An error occurred while calling o1136.showString.\n: org.apache.spark.SparkException: Job aborted due to stage failure: Task 0 in stage 112.0 failed 1 times, most recent failure: Lost task 0.0 in stage 112.0 (TID 90) (Rokesh executor driver): org.apache.spark.SparkException: Python worker failed to connect back.\r\n\tat org.apache.spark.api.python.PythonWorkerFactory.createSimpleWorker(PythonWorkerFactory.scala:203)\r\n\tat org.apache.spark.api.python.PythonWorkerFactory.create(PythonWorkerFactory.scala:109)\r\n\tat org.apache.spark.SparkEnv.createPythonWorker(SparkEnv.scala:124)\r\n\tat org.apache.spark.api.python.BasePythonRunner.compute(PythonRunner.scala:174)\r\n\tat org.apache.spark.sql.execution.python.BatchEvalPythonExec.evaluate(BatchEvalPythonExec.scala:54)\r\n\tat org.apache.spark.sql.execution.python.EvalPythonExec.$anonfun$doExecute$2(EvalPythonExec.scala:131)\r\n\tat org.apache.spark.rdd.RDD.$anonfun$mapPartitions$2(RDD.scala:858)\r\n\tat org.apache.spark.rdd.RDD.$anonfun$mapPartitions$2$adapted(RDD.scala:858)\r\n\tat org.apache.spark.rdd.MapPartitionsRDD.compute(MapPartitionsRDD.scala:52)\r\n\tat org.apache.spark.rdd.RDD.computeOrReadCheckpoint(RDD.scala:367)\r\n\tat org.apache.spark.rdd.RDD.iterator(RDD.scala:331)\r\n\tat org.apache.spark.rdd.MapPartitionsRDD.compute(MapPartitionsRDD.scala:52)\r\n\tat org.apache.spark.rdd.RDD.computeOrReadCheckpoint(RDD.scala:367)\r\n\tat org.apache.spark.rdd.RDD.iterator(RDD.scala:331)\r\n\tat org.apache.spark.rdd.MapPartitionsRDD.compute(MapPartitionsRDD.scala:52)\r\n\tat org.apache.spark.rdd.RDD.computeOrReadCheckpoint(RDD.scala:367)\r\n\tat org.apache.spark.rdd.RDD.iterator(RDD.scala:331)\r\n\tat org.apache.spark.shuffle.ShuffleWriteProcessor.write(ShuffleWriteProcessor.scala:59)\r\n\tat org.apache.spark.scheduler.ShuffleMapTask.runTask(ShuffleMapTask.scala:104)\r\n\tat org.apache.spark.scheduler.ShuffleMapTask.runTask(ShuffleMapTask.scala:54)\r\n\tat org.apache.spark.TaskContext.runTaskWithListeners(TaskContext.scala:166)\r\n\tat org.apache.spark.scheduler.Task.run(Task.scala:141)\r\n\tat org.apache.spark.executor.Executor$TaskRunner.$anonfun$run$4(Executor.scala:620)\r\n\tat org.apache.spark.util.SparkErrorUtils.tryWithSafeFinally(SparkErrorUtils.scala:64)\r\n\tat org.apache.spark.util.SparkErrorUtils.tryWithSafeFinally$(SparkErrorUtils.scala:61)\r\n\tat org.apache.spark.util.Utils$.tryWithSafeFinally(Utils.scala:94)\r\n\tat org.apache.spark.executor.Executor$TaskRunner.run(Executor.scala:623)\r\n\tat java.base/java.util.concurrent.ThreadPoolExecutor.runWorker(ThreadPoolExecutor.java:1144)\r\n\tat java.base/java.util.concurrent.ThreadPoolExecutor$Worker.run(ThreadPoolExecutor.java:642)\r\n\tat java.base/java.lang.Thread.run(Thread.java:1570)\r\nCaused by: java.net.SocketTimeoutException: Accept timed out\r\n\tat java.base/sun.nio.ch.NioSocketImpl.timedAccept(NioSocketImpl.java:701)\r\n\tat java.base/sun.nio.ch.NioSocketImpl.accept(NioSocketImpl.java:745)\r\n\tat java.base/java.net.ServerSocket.implAccept(ServerSocket.java:695)\r\n\tat java.base/java.net.ServerSocket.platformImplAccept(ServerSocket.java:660)\r\n\tat java.base/java.net.ServerSocket.implAccept(ServerSocket.java:636)\r\n\tat java.base/java.net.ServerSocket.implAccept(ServerSocket.java:582)\r\n\tat java.base/java.net.ServerSocket.accept(ServerSocket.java:541)\r\n\tat org.apache.spark.api.python.PythonWorkerFactory.createSimpleWorker(PythonWorkerFactory.scala:190)\r\n\t... 29 more\r\n\nDriver stacktrace:\r\n\tat org.apache.spark.scheduler.DAGScheduler.failJobAndIndependentStages(DAGScheduler.scala:2856)\r\n\tat org.apache.spark.scheduler.DAGScheduler.$anonfun$abortStage$2(DAGScheduler.scala:2792)\r\n\tat org.apache.spark.scheduler.DAGScheduler.$anonfun$abortStage$2$adapted(DAGScheduler.scala:2791)\r\n\tat scala.collection.mutable.ResizableArray.foreach(ResizableArray.scala:62)\r\n\tat scala.collection.mutable.ResizableArray.foreach$(ResizableArray.scala:55)\r\n\tat scala.collection.mutable.ArrayBuffer.foreach(ArrayBuffer.scala:49)\r\n\tat org.apache.spark.scheduler.DAGScheduler.abortStage(DAGScheduler.scala:2791)\r\n\tat org.apache.spark.scheduler.DAGScheduler.$anonfun$handleTaskSetFailed$1(DAGScheduler.scala:1247)\r\n\tat org.apache.spark.scheduler.DAGScheduler.$anonfun$handleTaskSetFailed$1$adapted(DAGScheduler.scala:1247)\r\n\tat scala.Option.foreach(Option.scala:407)\r\n\tat org.apache.spark.scheduler.DAGScheduler.handleTaskSetFailed(DAGScheduler.scala:1247)\r\n\tat org.apache.spark.scheduler.DAGSchedulerEventProcessLoop.doOnReceive(DAGScheduler.scala:3060)\r\n\tat org.apache.spark.scheduler.DAGSchedulerEventProcessLoop.onReceive(DAGScheduler.scala:2994)\r\n\tat org.apache.spark.scheduler.DAGSchedulerEventProcessLoop.onReceive(DAGScheduler.scala:2983)\r\n\tat org.apache.spark.util.EventLoop$$anon$1.run(EventLoop.scala:49)\r\nCaused by: org.apache.spark.SparkException: Python worker failed to connect back.\r\n\tat org.apache.spark.api.python.PythonWorkerFactory.createSimpleWorker(PythonWorkerFactory.scala:203)\r\n\tat org.apache.spark.api.python.PythonWorkerFactory.create(PythonWorkerFactory.scala:109)\r\n\tat org.apache.spark.SparkEnv.createPythonWorker(SparkEnv.scala:124)\r\n\tat org.apache.spark.api.python.BasePythonRunner.compute(PythonRunner.scala:174)\r\n\tat org.apache.spark.sql.execution.python.BatchEvalPythonExec.evaluate(BatchEvalPythonExec.scala:54)\r\n\tat org.apache.spark.sql.execution.python.EvalPythonExec.$anonfun$doExecute$2(EvalPythonExec.scala:131)\r\n\tat org.apache.spark.rdd.RDD.$anonfun$mapPartitions$2(RDD.scala:858)\r\n\tat org.apache.spark.rdd.RDD.$anonfun$mapPartitions$2$adapted(RDD.scala:858)\r\n\tat org.apache.spark.rdd.MapPartitionsRDD.compute(MapPartitionsRDD.scala:52)\r\n\tat org.apache.spark.rdd.RDD.computeOrReadCheckpoint(RDD.scala:367)\r\n\tat org.apache.spark.rdd.RDD.iterator(RDD.scala:331)\r\n\tat org.apache.spark.rdd.MapPartitionsRDD.compute(MapPartitionsRDD.scala:52)\r\n\tat org.apache.spark.rdd.RDD.computeOrReadCheckpoint(RDD.scala:367)\r\n\tat org.apache.spark.rdd.RDD.iterator(RDD.scala:331)\r\n\tat org.apache.spark.rdd.MapPartitionsRDD.compute(MapPartitionsRDD.scala:52)\r\n\tat org.apache.spark.rdd.RDD.computeOrReadCheckpoint(RDD.scala:367)\r\n\tat org.apache.spark.rdd.RDD.iterator(RDD.scala:331)\r\n\tat org.apache.spark.shuffle.ShuffleWriteProcessor.write(ShuffleWriteProcessor.scala:59)\r\n\tat org.apache.spark.scheduler.ShuffleMapTask.runTask(ShuffleMapTask.scala:104)\r\n\tat org.apache.spark.scheduler.ShuffleMapTask.runTask(ShuffleMapTask.scala:54)\r\n\tat org.apache.spark.TaskContext.runTaskWithListeners(TaskContext.scala:166)\r\n\tat org.apache.spark.scheduler.Task.run(Task.scala:141)\r\n\tat org.apache.spark.executor.Executor$TaskRunner.$anonfun$run$4(Executor.scala:620)\r\n\tat org.apache.spark.util.SparkErrorUtils.tryWithSafeFinally(SparkErrorUtils.scala:64)\r\n\tat org.apache.spark.util.SparkErrorUtils.tryWithSafeFinally$(SparkErrorUtils.scala:61)\r\n\tat org.apache.spark.util.Utils$.tryWithSafeFinally(Utils.scala:94)\r\n\tat org.apache.spark.executor.Executor$TaskRunner.run(Executor.scala:623)\r\n\tat java.base/java.util.concurrent.ThreadPoolExecutor.runWorker(ThreadPoolExecutor.java:1144)\r\n\tat java.base/java.util.concurrent.ThreadPoolExecutor$Worker.run(ThreadPoolExecutor.java:642)\r\n\tat java.base/java.lang.Thread.run(Thread.java:1570)\r\nCaused by: java.net.SocketTimeoutException: Accept timed out\r\n\tat java.base/sun.nio.ch.NioSocketImpl.timedAccept(NioSocketImpl.java:701)\r\n\tat java.base/sun.nio.ch.NioSocketImpl.accept(NioSocketImpl.java:745)\r\n\tat java.base/java.net.ServerSocket.implAccept(ServerSocket.java:695)\r\n\tat java.base/java.net.ServerSocket.platformImplAccept(ServerSocket.java:660)\r\n\tat java.base/java.net.ServerSocket.implAccept(ServerSocket.java:636)\r\n\tat java.base/java.net.ServerSocket.implAccept(ServerSocket.java:582)\r\n\tat java.base/java.net.ServerSocket.accept(ServerSocket.java:541)\r\n\tat org.apache.spark.api.python.PythonWorkerFactory.createSimpleWorker(PythonWorkerFactory.scala:190)\r\n\t... 29 more\r\n"
     ]
    }
   ],
   "source": [
    "monthly_recovery_df = df_coviddata.groupBy(\"month\").agg(F.sum(\"New recovered\").alias(\"total_recovered_cases_by_month\"))\n",
    "monthly_recovery_df = monthly_recovery_df.orderBy(F.col('total_recovered_cases_by_month').desc()).limit(1)\n",
    "monthly_recovery_df = monthly_recovery_df.withcolumn('month',get_month_name_udf(F.month))\n",
    "monthly_recovery_df.show()"
   ]
  }
 ],
 "metadata": {
  "kernelspec": {
   "display_name": "Python 3 (ipykernel)",
   "language": "python",
   "name": "python3"
  },
  "language_info": {
   "codemirror_mode": {
    "name": "ipython",
    "version": 3
   },
   "file_extension": ".py",
   "mimetype": "text/x-python",
   "name": "python",
   "nbconvert_exporter": "python",
   "pygments_lexer": "ipython3",
   "version": "3.12.4"
  }
 },
 "nbformat": 4,
 "nbformat_minor": 5
}
